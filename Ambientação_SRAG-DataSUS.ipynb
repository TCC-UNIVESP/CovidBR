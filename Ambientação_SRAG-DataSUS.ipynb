{
 "cells": [
  {
   "cell_type": "markdown",
   "metadata": {},
   "source": [
    "# Ambientação com o conjunto de os dados organizados pela Vigilância de Síndrome Respiratória Aguda Grave (SRAG) do Ministério da Saúde (MS)\n",
    "\n",
    "### site: https://opendatasus.saude.gov.br/dataset/bd-srag-2020\n"
   ]
  },
  {
   "cell_type": "code",
   "execution_count": 1,
   "metadata": {},
   "outputs": [],
   "source": [
    "import numpy as np\n",
    "import pandas as pd\n",
    "import seaborn as sns\n",
    "import matplotlib.pyplot as plt\n",
    "low_memory = False\n",
    "%matplotlib inline\n"
   ]
  },
  {
   "cell_type": "code",
   "execution_count": 2,
   "metadata": {},
   "outputs": [
    {
     "name": "stderr",
     "output_type": "stream",
     "text": [
      "C:\\Users\\CristianoSantanaCunh\\anaconda3\\lib\\site-packages\\IPython\\core\\interactiveshell.py:3146: DtypeWarning: Columns (15,60,62,63,64,92,94,106,108,115,117,118,119,123) have mixed types.Specify dtype option on import or set low_memory=False.\n",
      "  has_raised = await self.run_ast_nodes(code_ast.body, cell_name,\n"
     ]
    }
   ],
   "source": [
    "#Gerar Dataframe\n",
    "df = pd.read_csv(\"INFLUD-29-03-2021.csv\", delimiter=';', encoding ='ISO-8859-1', error_bad_lines=False)\n"
   ]
  },
  {
   "cell_type": "code",
   "execution_count": 3,
   "metadata": {},
   "outputs": [
    {
     "data": {
      "text/plain": [
       "(1187048, 154)"
      ]
     },
     "execution_count": 3,
     "metadata": {},
     "output_type": "execute_result"
    }
   ],
   "source": [
    "df.shape"
   ]
  },
  {
   "cell_type": "code",
   "execution_count": 4,
   "metadata": {},
   "outputs": [
    {
     "name": "stdout",
     "output_type": "stream",
     "text": [
      "15 COD_IDADE\n",
      "60 DT_VAC_MAE\n",
      "62 DT_DOSEUNI\n",
      "63 DT_1_DOSE\n",
      "64 DT_2_DOSE\n",
      "92 FLUASU_OUT\n",
      "94 FLUBLI_OUT\n",
      "106 DS_PCR_OUT\n",
      "108 CLASSI_OUT\n",
      "115 PAIS_VGM\n",
      "117 LO_PS_VGM\n",
      "118 DT_VGM\n",
      "119 DT_RT_VGM\n",
      "123 OUT_ANIM\n"
     ]
    }
   ],
   "source": [
    "#Colunas com problemas de tipos misturados\n",
    "for i in (15,60,62,63,64,92,94,106,108,115,117,118,119,123): print(i, df.columns[i])"
   ]
  },
  {
   "cell_type": "code",
   "execution_count": 5,
   "metadata": {},
   "outputs": [
    {
     "data": {
      "text/html": [
       "<div>\n",
       "<style scoped>\n",
       "    .dataframe tbody tr th:only-of-type {\n",
       "        vertical-align: middle;\n",
       "    }\n",
       "\n",
       "    .dataframe tbody tr th {\n",
       "        vertical-align: top;\n",
       "    }\n",
       "\n",
       "    .dataframe thead th {\n",
       "        text-align: right;\n",
       "    }\n",
       "</style>\n",
       "<table border=\"1\" class=\"dataframe\">\n",
       "  <thead>\n",
       "    <tr style=\"text-align: right;\">\n",
       "      <th></th>\n",
       "      <th>DT_NOTIFIC</th>\n",
       "      <th>SEM_NOT</th>\n",
       "      <th>DT_SIN_PRI</th>\n",
       "      <th>SEM_PRI</th>\n",
       "      <th>SG_UF_NOT</th>\n",
       "      <th>ID_REGIONA</th>\n",
       "      <th>CO_REGIONA</th>\n",
       "      <th>ID_MUNICIP</th>\n",
       "      <th>CO_MUN_NOT</th>\n",
       "      <th>ID_UNIDADE</th>\n",
       "      <th>...</th>\n",
       "      <th>DS_AN_OUT</th>\n",
       "      <th>TP_AM_SOR</th>\n",
       "      <th>SOR_OUT</th>\n",
       "      <th>DT_CO_SOR</th>\n",
       "      <th>TP_SOR</th>\n",
       "      <th>OUT_SOR</th>\n",
       "      <th>DT_RES</th>\n",
       "      <th>RES_IGG</th>\n",
       "      <th>RES_IGM</th>\n",
       "      <th>RES_IGA</th>\n",
       "    </tr>\n",
       "  </thead>\n",
       "  <tbody>\n",
       "    <tr>\n",
       "      <th>0</th>\n",
       "      <td>16/01/2020</td>\n",
       "      <td>3</td>\n",
       "      <td>07/01/2020</td>\n",
       "      <td>2</td>\n",
       "      <td>SP</td>\n",
       "      <td>GVE VIII MOGI DAS CRUZES</td>\n",
       "      <td>1333.0</td>\n",
       "      <td>MOGI DAS CRUZES</td>\n",
       "      <td>353060</td>\n",
       "      <td>HOSPITAL DAS CLINICAS LUZIA DE PINHO MELO MOGI...</td>\n",
       "      <td>...</td>\n",
       "      <td>NaN</td>\n",
       "      <td>NaN</td>\n",
       "      <td>NaN</td>\n",
       "      <td>NaN</td>\n",
       "      <td>NaN</td>\n",
       "      <td>NaN</td>\n",
       "      <td>NaN</td>\n",
       "      <td>NaN</td>\n",
       "      <td>NaN</td>\n",
       "      <td>NaN</td>\n",
       "    </tr>\n",
       "    <tr>\n",
       "      <th>1</th>\n",
       "      <td>24/02/2020</td>\n",
       "      <td>9</td>\n",
       "      <td>24/01/2020</td>\n",
       "      <td>4</td>\n",
       "      <td>MG</td>\n",
       "      <td>BELO HORIZONTE</td>\n",
       "      <td>1449.0</td>\n",
       "      <td>BELO HORIZONTE</td>\n",
       "      <td>310620</td>\n",
       "      <td>HOSPITAL RISOLETA TOLENTINO NEVES</td>\n",
       "      <td>...</td>\n",
       "      <td>NaN</td>\n",
       "      <td>NaN</td>\n",
       "      <td>NaN</td>\n",
       "      <td>NaN</td>\n",
       "      <td>NaN</td>\n",
       "      <td>NaN</td>\n",
       "      <td>NaN</td>\n",
       "      <td>NaN</td>\n",
       "      <td>NaN</td>\n",
       "      <td>NaN</td>\n",
       "    </tr>\n",
       "  </tbody>\n",
       "</table>\n",
       "<p>2 rows × 154 columns</p>\n",
       "</div>"
      ],
      "text/plain": [
       "   DT_NOTIFIC  SEM_NOT  DT_SIN_PRI  SEM_PRI SG_UF_NOT  \\\n",
       "0  16/01/2020        3  07/01/2020        2        SP   \n",
       "1  24/02/2020        9  24/01/2020        4        MG   \n",
       "\n",
       "                 ID_REGIONA  CO_REGIONA       ID_MUNICIP  CO_MUN_NOT  \\\n",
       "0  GVE VIII MOGI DAS CRUZES      1333.0  MOGI DAS CRUZES      353060   \n",
       "1            BELO HORIZONTE      1449.0   BELO HORIZONTE      310620   \n",
       "\n",
       "                                          ID_UNIDADE  ...  DS_AN_OUT  \\\n",
       "0  HOSPITAL DAS CLINICAS LUZIA DE PINHO MELO MOGI...  ...        NaN   \n",
       "1                  HOSPITAL RISOLETA TOLENTINO NEVES  ...        NaN   \n",
       "\n",
       "  TP_AM_SOR SOR_OUT  DT_CO_SOR  TP_SOR OUT_SOR  DT_RES  RES_IGG RES_IGM  \\\n",
       "0       NaN     NaN        NaN     NaN     NaN     NaN      NaN     NaN   \n",
       "1       NaN     NaN        NaN     NaN     NaN     NaN      NaN     NaN   \n",
       "\n",
       "   RES_IGA  \n",
       "0      NaN  \n",
       "1      NaN  \n",
       "\n",
       "[2 rows x 154 columns]"
      ]
     },
     "execution_count": 5,
     "metadata": {},
     "output_type": "execute_result"
    }
   ],
   "source": [
    "df.head(2)"
   ]
  },
  {
   "cell_type": "code",
   "execution_count": 6,
   "metadata": {},
   "outputs": [
    {
     "data": {
      "text/html": [
       "<div>\n",
       "<style scoped>\n",
       "    .dataframe tbody tr th:only-of-type {\n",
       "        vertical-align: middle;\n",
       "    }\n",
       "\n",
       "    .dataframe tbody tr th {\n",
       "        vertical-align: top;\n",
       "    }\n",
       "\n",
       "    .dataframe thead th {\n",
       "        text-align: right;\n",
       "    }\n",
       "</style>\n",
       "<table border=\"1\" class=\"dataframe\">\n",
       "  <thead>\n",
       "    <tr style=\"text-align: right;\">\n",
       "      <th></th>\n",
       "      <th>SEM_NOT</th>\n",
       "      <th>SEM_PRI</th>\n",
       "      <th>CO_REGIONA</th>\n",
       "      <th>CO_MUN_NOT</th>\n",
       "      <th>CO_UNI_NOT</th>\n",
       "      <th>NU_IDADE_N</th>\n",
       "      <th>TP_IDADE</th>\n",
       "      <th>CS_GESTANT</th>\n",
       "      <th>CS_RACA</th>\n",
       "      <th>CS_ESCOL_N</th>\n",
       "      <th>...</th>\n",
       "      <th>AN_PARA1</th>\n",
       "      <th>AN_PARA2</th>\n",
       "      <th>AN_PARA3</th>\n",
       "      <th>AN_ADENO</th>\n",
       "      <th>AN_OUTRO</th>\n",
       "      <th>TP_AM_SOR</th>\n",
       "      <th>TP_SOR</th>\n",
       "      <th>RES_IGG</th>\n",
       "      <th>RES_IGM</th>\n",
       "      <th>RES_IGA</th>\n",
       "    </tr>\n",
       "  </thead>\n",
       "  <tbody>\n",
       "    <tr>\n",
       "      <th>count</th>\n",
       "      <td>1.187048e+06</td>\n",
       "      <td>1.187048e+06</td>\n",
       "      <td>1.029556e+06</td>\n",
       "      <td>1.187048e+06</td>\n",
       "      <td>1.187048e+06</td>\n",
       "      <td>1.187048e+06</td>\n",
       "      <td>1.187048e+06</td>\n",
       "      <td>1.187048e+06</td>\n",
       "      <td>1.133311e+06</td>\n",
       "      <td>827117.000000</td>\n",
       "      <td>...</td>\n",
       "      <td>14.0</td>\n",
       "      <td>1.0</td>\n",
       "      <td>4.0</td>\n",
       "      <td>30.0</td>\n",
       "      <td>20770.0</td>\n",
       "      <td>110182.000000</td>\n",
       "      <td>105036.000000</td>\n",
       "      <td>129509.000000</td>\n",
       "      <td>132974.000000</td>\n",
       "      <td>85263.000000</td>\n",
       "    </tr>\n",
       "    <tr>\n",
       "      <th>mean</th>\n",
       "      <td>3.149100e+01</td>\n",
       "      <td>3.215342e+01</td>\n",
       "      <td>1.585376e+03</td>\n",
       "      <td>3.361114e+05</td>\n",
       "      <td>3.321186e+06</td>\n",
       "      <td>5.674751e+01</td>\n",
       "      <td>2.976805e+00</td>\n",
       "      <td>5.812013e+00</td>\n",
       "      <td>3.594301e+00</td>\n",
       "      <td>5.438329</td>\n",
       "      <td>...</td>\n",
       "      <td>1.0</td>\n",
       "      <td>1.0</td>\n",
       "      <td>1.0</td>\n",
       "      <td>1.0</td>\n",
       "      <td>1.0</td>\n",
       "      <td>1.776797</td>\n",
       "      <td>1.284274</td>\n",
       "      <td>2.281038</td>\n",
       "      <td>2.149698</td>\n",
       "      <td>4.111150</td>\n",
       "    </tr>\n",
       "    <tr>\n",
       "      <th>std</th>\n",
       "      <td>1.265601e+01</td>\n",
       "      <td>1.193620e+01</td>\n",
       "      <td>7.288790e+02</td>\n",
       "      <td>9.070705e+04</td>\n",
       "      <td>2.421573e+06</td>\n",
       "      <td>2.249585e+01</td>\n",
       "      <td>1.720999e-01</td>\n",
       "      <td>9.271303e-01</td>\n",
       "      <td>2.845580e+00</td>\n",
       "      <td>3.486334</td>\n",
       "      <td>...</td>\n",
       "      <td>0.0</td>\n",
       "      <td>NaN</td>\n",
       "      <td>0.0</td>\n",
       "      <td>0.0</td>\n",
       "      <td>0.0</td>\n",
       "      <td>2.223937</td>\n",
       "      <td>0.811265</td>\n",
       "      <td>1.536760</td>\n",
       "      <td>1.486925</td>\n",
       "      <td>1.361892</td>\n",
       "    </tr>\n",
       "    <tr>\n",
       "      <th>min</th>\n",
       "      <td>1.000000e+00</td>\n",
       "      <td>1.000000e+00</td>\n",
       "      <td>1.331000e+03</td>\n",
       "      <td>1.100010e+05</td>\n",
       "      <td>1.900000e+01</td>\n",
       "      <td>-3.000000e+00</td>\n",
       "      <td>1.000000e+00</td>\n",
       "      <td>0.000000e+00</td>\n",
       "      <td>1.000000e+00</td>\n",
       "      <td>0.000000</td>\n",
       "      <td>...</td>\n",
       "      <td>1.0</td>\n",
       "      <td>1.0</td>\n",
       "      <td>1.0</td>\n",
       "      <td>1.0</td>\n",
       "      <td>1.0</td>\n",
       "      <td>1.000000</td>\n",
       "      <td>1.000000</td>\n",
       "      <td>1.000000</td>\n",
       "      <td>1.000000</td>\n",
       "      <td>1.000000</td>\n",
       "    </tr>\n",
       "    <tr>\n",
       "      <th>25%</th>\n",
       "      <td>2.200000e+01</td>\n",
       "      <td>2.200000e+01</td>\n",
       "      <td>1.342000e+03</td>\n",
       "      <td>2.927400e+05</td>\n",
       "      <td>2.081628e+06</td>\n",
       "      <td>4.300000e+01</td>\n",
       "      <td>3.000000e+00</td>\n",
       "      <td>5.000000e+00</td>\n",
       "      <td>1.000000e+00</td>\n",
       "      <td>2.000000</td>\n",
       "      <td>...</td>\n",
       "      <td>1.0</td>\n",
       "      <td>1.0</td>\n",
       "      <td>1.0</td>\n",
       "      <td>1.0</td>\n",
       "      <td>1.0</td>\n",
       "      <td>1.000000</td>\n",
       "      <td>1.000000</td>\n",
       "      <td>1.000000</td>\n",
       "      <td>1.000000</td>\n",
       "      <td>4.000000</td>\n",
       "    </tr>\n",
       "    <tr>\n",
       "      <th>50%</th>\n",
       "      <td>3.100000e+01</td>\n",
       "      <td>3.100000e+01</td>\n",
       "      <td>1.448000e+03</td>\n",
       "      <td>3.509500e+05</td>\n",
       "      <td>2.486199e+06</td>\n",
       "      <td>6.000000e+01</td>\n",
       "      <td>3.000000e+00</td>\n",
       "      <td>6.000000e+00</td>\n",
       "      <td>4.000000e+00</td>\n",
       "      <td>5.000000</td>\n",
       "      <td>...</td>\n",
       "      <td>1.0</td>\n",
       "      <td>1.0</td>\n",
       "      <td>1.0</td>\n",
       "      <td>1.0</td>\n",
       "      <td>1.0</td>\n",
       "      <td>1.000000</td>\n",
       "      <td>1.000000</td>\n",
       "      <td>2.000000</td>\n",
       "      <td>2.000000</td>\n",
       "      <td>4.000000</td>\n",
       "    </tr>\n",
       "    <tr>\n",
       "      <th>75%</th>\n",
       "      <td>4.200000e+01</td>\n",
       "      <td>4.300000e+01</td>\n",
       "      <td>1.519000e+03</td>\n",
       "      <td>3.550300e+05</td>\n",
       "      <td>3.972976e+06</td>\n",
       "      <td>7.400000e+01</td>\n",
       "      <td>3.000000e+00</td>\n",
       "      <td>6.000000e+00</td>\n",
       "      <td>4.000000e+00</td>\n",
       "      <td>9.000000</td>\n",
       "      <td>...</td>\n",
       "      <td>1.0</td>\n",
       "      <td>1.0</td>\n",
       "      <td>1.0</td>\n",
       "      <td>1.0</td>\n",
       "      <td>1.0</td>\n",
       "      <td>1.000000</td>\n",
       "      <td>1.000000</td>\n",
       "      <td>4.000000</td>\n",
       "      <td>4.000000</td>\n",
       "      <td>4.000000</td>\n",
       "    </tr>\n",
       "    <tr>\n",
       "      <th>max</th>\n",
       "      <td>5.300000e+01</td>\n",
       "      <td>5.300000e+01</td>\n",
       "      <td>6.256000e+03</td>\n",
       "      <td>5.300100e+05</td>\n",
       "      <td>9.997091e+06</td>\n",
       "      <td>1.480000e+02</td>\n",
       "      <td>3.000000e+00</td>\n",
       "      <td>9.000000e+00</td>\n",
       "      <td>9.000000e+00</td>\n",
       "      <td>9.000000</td>\n",
       "      <td>...</td>\n",
       "      <td>1.0</td>\n",
       "      <td>1.0</td>\n",
       "      <td>1.0</td>\n",
       "      <td>1.0</td>\n",
       "      <td>1.0</td>\n",
       "      <td>9.000000</td>\n",
       "      <td>4.000000</td>\n",
       "      <td>9.000000</td>\n",
       "      <td>9.000000</td>\n",
       "      <td>9.000000</td>\n",
       "    </tr>\n",
       "  </tbody>\n",
       "</table>\n",
       "<p>8 rows × 96 columns</p>\n",
       "</div>"
      ],
      "text/plain": [
       "            SEM_NOT       SEM_PRI    CO_REGIONA    CO_MUN_NOT    CO_UNI_NOT  \\\n",
       "count  1.187048e+06  1.187048e+06  1.029556e+06  1.187048e+06  1.187048e+06   \n",
       "mean   3.149100e+01  3.215342e+01  1.585376e+03  3.361114e+05  3.321186e+06   \n",
       "std    1.265601e+01  1.193620e+01  7.288790e+02  9.070705e+04  2.421573e+06   \n",
       "min    1.000000e+00  1.000000e+00  1.331000e+03  1.100010e+05  1.900000e+01   \n",
       "25%    2.200000e+01  2.200000e+01  1.342000e+03  2.927400e+05  2.081628e+06   \n",
       "50%    3.100000e+01  3.100000e+01  1.448000e+03  3.509500e+05  2.486199e+06   \n",
       "75%    4.200000e+01  4.300000e+01  1.519000e+03  3.550300e+05  3.972976e+06   \n",
       "max    5.300000e+01  5.300000e+01  6.256000e+03  5.300100e+05  9.997091e+06   \n",
       "\n",
       "         NU_IDADE_N      TP_IDADE    CS_GESTANT       CS_RACA     CS_ESCOL_N  \\\n",
       "count  1.187048e+06  1.187048e+06  1.187048e+06  1.133311e+06  827117.000000   \n",
       "mean   5.674751e+01  2.976805e+00  5.812013e+00  3.594301e+00       5.438329   \n",
       "std    2.249585e+01  1.720999e-01  9.271303e-01  2.845580e+00       3.486334   \n",
       "min   -3.000000e+00  1.000000e+00  0.000000e+00  1.000000e+00       0.000000   \n",
       "25%    4.300000e+01  3.000000e+00  5.000000e+00  1.000000e+00       2.000000   \n",
       "50%    6.000000e+01  3.000000e+00  6.000000e+00  4.000000e+00       5.000000   \n",
       "75%    7.400000e+01  3.000000e+00  6.000000e+00  4.000000e+00       9.000000   \n",
       "max    1.480000e+02  3.000000e+00  9.000000e+00  9.000000e+00       9.000000   \n",
       "\n",
       "       ...  AN_PARA1  AN_PARA2  AN_PARA3  AN_ADENO  AN_OUTRO      TP_AM_SOR  \\\n",
       "count  ...      14.0       1.0       4.0      30.0   20770.0  110182.000000   \n",
       "mean   ...       1.0       1.0       1.0       1.0       1.0       1.776797   \n",
       "std    ...       0.0       NaN       0.0       0.0       0.0       2.223937   \n",
       "min    ...       1.0       1.0       1.0       1.0       1.0       1.000000   \n",
       "25%    ...       1.0       1.0       1.0       1.0       1.0       1.000000   \n",
       "50%    ...       1.0       1.0       1.0       1.0       1.0       1.000000   \n",
       "75%    ...       1.0       1.0       1.0       1.0       1.0       1.000000   \n",
       "max    ...       1.0       1.0       1.0       1.0       1.0       9.000000   \n",
       "\n",
       "              TP_SOR        RES_IGG        RES_IGM       RES_IGA  \n",
       "count  105036.000000  129509.000000  132974.000000  85263.000000  \n",
       "mean        1.284274       2.281038       2.149698      4.111150  \n",
       "std         0.811265       1.536760       1.486925      1.361892  \n",
       "min         1.000000       1.000000       1.000000      1.000000  \n",
       "25%         1.000000       1.000000       1.000000      4.000000  \n",
       "50%         1.000000       2.000000       2.000000      4.000000  \n",
       "75%         1.000000       4.000000       4.000000      4.000000  \n",
       "max         4.000000       9.000000       9.000000      9.000000  \n",
       "\n",
       "[8 rows x 96 columns]"
      ]
     },
     "execution_count": 6,
     "metadata": {},
     "output_type": "execute_result"
    }
   ],
   "source": [
    "#Dados numéricos\n",
    "\n",
    "df.describe()"
   ]
  },
  {
   "cell_type": "code",
   "execution_count": 7,
   "metadata": {},
   "outputs": [
    {
     "name": "stdout",
     "output_type": "stream",
     "text": [
      "<class 'pandas.core.frame.DataFrame'>\n",
      "RangeIndex: 1187048 entries, 0 to 1187047\n",
      "Columns: 154 entries, DT_NOTIFIC to RES_IGA\n",
      "dtypes: float64(87), int64(9), object(58)\n",
      "memory usage: 1.4+ GB\n"
     ]
    }
   ],
   "source": [
    "#Quanto ocupa de memória\n",
    "df.info()"
   ]
  },
  {
   "cell_type": "code",
   "execution_count": 8,
   "metadata": {},
   "outputs": [
    {
     "data": {
      "text/html": [
       "<div>\n",
       "<style scoped>\n",
       "    .dataframe tbody tr th:only-of-type {\n",
       "        vertical-align: middle;\n",
       "    }\n",
       "\n",
       "    .dataframe tbody tr th {\n",
       "        vertical-align: top;\n",
       "    }\n",
       "\n",
       "    .dataframe thead th {\n",
       "        text-align: right;\n",
       "    }\n",
       "</style>\n",
       "<table border=\"1\" class=\"dataframe\">\n",
       "  <thead>\n",
       "    <tr style=\"text-align: right;\">\n",
       "      <th></th>\n",
       "      <th>DT_NOTIFIC</th>\n",
       "      <th>SEM_NOT</th>\n",
       "      <th>DT_SIN_PRI</th>\n",
       "      <th>SEM_PRI</th>\n",
       "      <th>SG_UF_NOT</th>\n",
       "      <th>ID_REGIONA</th>\n",
       "      <th>CO_REGIONA</th>\n",
       "      <th>ID_MUNICIP</th>\n",
       "      <th>CO_MUN_NOT</th>\n",
       "      <th>ID_UNIDADE</th>\n",
       "      <th>...</th>\n",
       "      <th>DS_AN_OUT</th>\n",
       "      <th>TP_AM_SOR</th>\n",
       "      <th>SOR_OUT</th>\n",
       "      <th>DT_CO_SOR</th>\n",
       "      <th>TP_SOR</th>\n",
       "      <th>OUT_SOR</th>\n",
       "      <th>DT_RES</th>\n",
       "      <th>RES_IGG</th>\n",
       "      <th>RES_IGM</th>\n",
       "      <th>RES_IGA</th>\n",
       "    </tr>\n",
       "  </thead>\n",
       "  <tbody>\n",
       "    <tr>\n",
       "      <th>1187046</th>\n",
       "      <td>29/12/2020</td>\n",
       "      <td>53</td>\n",
       "      <td>25/12/2020</td>\n",
       "      <td>52</td>\n",
       "      <td>SP</td>\n",
       "      <td>GVE XV BAURU</td>\n",
       "      <td>1340.0</td>\n",
       "      <td>JAU</td>\n",
       "      <td>352530</td>\n",
       "      <td>SANTA CASA DE JAU</td>\n",
       "      <td>...</td>\n",
       "      <td>NaN</td>\n",
       "      <td>NaN</td>\n",
       "      <td>NaN</td>\n",
       "      <td>NaN</td>\n",
       "      <td>NaN</td>\n",
       "      <td>NaN</td>\n",
       "      <td>NaN</td>\n",
       "      <td>NaN</td>\n",
       "      <td>NaN</td>\n",
       "      <td>NaN</td>\n",
       "    </tr>\n",
       "    <tr>\n",
       "      <th>1187047</th>\n",
       "      <td>31/08/2020</td>\n",
       "      <td>36</td>\n",
       "      <td>31/08/2020</td>\n",
       "      <td>36</td>\n",
       "      <td>RO</td>\n",
       "      <td>I DRS JI PARANA</td>\n",
       "      <td>1474.0</td>\n",
       "      <td>JI-PARANA</td>\n",
       "      <td>110012</td>\n",
       "      <td>HOSPITAL DR CLAUDIONOR COUTO RORIZ</td>\n",
       "      <td>...</td>\n",
       "      <td>NaN</td>\n",
       "      <td>1.0</td>\n",
       "      <td>NaN</td>\n",
       "      <td>31/08/2020</td>\n",
       "      <td>1.0</td>\n",
       "      <td>NaN</td>\n",
       "      <td>31/08/2020</td>\n",
       "      <td>NaN</td>\n",
       "      <td>1.0</td>\n",
       "      <td>NaN</td>\n",
       "    </tr>\n",
       "  </tbody>\n",
       "</table>\n",
       "<p>2 rows × 154 columns</p>\n",
       "</div>"
      ],
      "text/plain": [
       "         DT_NOTIFIC  SEM_NOT  DT_SIN_PRI  SEM_PRI SG_UF_NOT       ID_REGIONA  \\\n",
       "1187046  29/12/2020       53  25/12/2020       52        SP     GVE XV BAURU   \n",
       "1187047  31/08/2020       36  31/08/2020       36        RO  I DRS JI PARANA   \n",
       "\n",
       "         CO_REGIONA ID_MUNICIP  CO_MUN_NOT  \\\n",
       "1187046      1340.0        JAU      352530   \n",
       "1187047      1474.0  JI-PARANA      110012   \n",
       "\n",
       "                                 ID_UNIDADE  ...  DS_AN_OUT TP_AM_SOR SOR_OUT  \\\n",
       "1187046                   SANTA CASA DE JAU  ...        NaN       NaN     NaN   \n",
       "1187047  HOSPITAL DR CLAUDIONOR COUTO RORIZ  ...        NaN       1.0     NaN   \n",
       "\n",
       "          DT_CO_SOR  TP_SOR OUT_SOR      DT_RES  RES_IGG RES_IGM  RES_IGA  \n",
       "1187046         NaN     NaN     NaN         NaN      NaN     NaN      NaN  \n",
       "1187047  31/08/2020     1.0     NaN  31/08/2020      NaN     1.0      NaN  \n",
       "\n",
       "[2 rows x 154 columns]"
      ]
     },
     "execution_count": 8,
     "metadata": {},
     "output_type": "execute_result"
    }
   ],
   "source": [
    "df.tail(2)"
   ]
  },
  {
   "cell_type": "code",
   "execution_count": 9,
   "metadata": {
    "scrolled": true
   },
   "outputs": [
    {
     "data": {
      "text/plain": [
       "(1187048, 154)"
      ]
     },
     "execution_count": 9,
     "metadata": {},
     "output_type": "execute_result"
    }
   ],
   "source": [
    "df.shape"
   ]
  },
  {
   "cell_type": "code",
   "execution_count": 10,
   "metadata": {},
   "outputs": [
    {
     "data": {
      "text/plain": [
       "str"
      ]
     },
     "execution_count": 10,
     "metadata": {},
     "output_type": "execute_result"
    }
   ],
   "source": [
    "type(df['DT_SIN_PRI'][0])"
   ]
  },
  {
   "cell_type": "code",
   "execution_count": 11,
   "metadata": {
    "scrolled": true
   },
   "outputs": [
    {
     "data": {
      "text/plain": [
       "0          07/01/2020\n",
       "1          24/01/2020\n",
       "2          12/02/2020\n",
       "3          16/02/2020\n",
       "4          05/02/2020\n",
       "              ...    \n",
       "1187043    05/12/2020\n",
       "1187044    14/12/2020\n",
       "1187045    19/11/2020\n",
       "1187046    25/12/2020\n",
       "1187047    31/08/2020\n",
       "Name: DT_SIN_PRI, Length: 1187048, dtype: object"
      ]
     },
     "execution_count": 11,
     "metadata": {},
     "output_type": "execute_result"
    }
   ],
   "source": [
    "df['DT_SIN_PRI']\n"
   ]
  },
  {
   "cell_type": "code",
   "execution_count": 12,
   "metadata": {},
   "outputs": [
    {
     "data": {
      "text/plain": [
       "0         2020-01-07\n",
       "1         2020-01-24\n",
       "2         2020-02-12\n",
       "3         2020-02-16\n",
       "4         2020-02-05\n",
       "             ...    \n",
       "1187043   2020-12-05\n",
       "1187044   2020-12-14\n",
       "1187045   2020-11-19\n",
       "1187046   2020-12-25\n",
       "1187047   2020-08-31\n",
       "Name: DT_SIN_PRI, Length: 1187048, dtype: datetime64[ns]"
      ]
     },
     "execution_count": 12,
     "metadata": {},
     "output_type": "execute_result"
    }
   ],
   "source": [
    "df['DT_SIN_PRI'] = pd.to_datetime(df['DT_SIN_PRI'], format='%d/%m/%Y')\n",
    "#df['DT_SIN_PRI'] = df['DT_PRI_SIN'].dt.strftime('%d/%m/%Y')\n",
    "df['DT_SIN_PRI']"
   ]
  },
  {
   "cell_type": "code",
   "execution_count": 13,
   "metadata": {},
   "outputs": [
    {
     "data": {
      "text/html": [
       "<div>\n",
       "<style scoped>\n",
       "    .dataframe tbody tr th:only-of-type {\n",
       "        vertical-align: middle;\n",
       "    }\n",
       "\n",
       "    .dataframe tbody tr th {\n",
       "        vertical-align: top;\n",
       "    }\n",
       "\n",
       "    .dataframe thead th {\n",
       "        text-align: right;\n",
       "    }\n",
       "</style>\n",
       "<table border=\"1\" class=\"dataframe\">\n",
       "  <thead>\n",
       "    <tr style=\"text-align: right;\">\n",
       "      <th></th>\n",
       "      <th>DT_NOTIFIC</th>\n",
       "      <th>SEM_NOT</th>\n",
       "      <th>DT_SIN_PRI</th>\n",
       "      <th>SEM_PRI</th>\n",
       "      <th>SG_UF_NOT</th>\n",
       "      <th>ID_REGIONA</th>\n",
       "      <th>CO_REGIONA</th>\n",
       "      <th>ID_MUNICIP</th>\n",
       "      <th>CO_MUN_NOT</th>\n",
       "      <th>ID_UNIDADE</th>\n",
       "      <th>...</th>\n",
       "      <th>TP_AM_SOR</th>\n",
       "      <th>SOR_OUT</th>\n",
       "      <th>DT_CO_SOR</th>\n",
       "      <th>TP_SOR</th>\n",
       "      <th>OUT_SOR</th>\n",
       "      <th>DT_RES</th>\n",
       "      <th>RES_IGG</th>\n",
       "      <th>RES_IGM</th>\n",
       "      <th>RES_IGA</th>\n",
       "      <th>MES</th>\n",
       "    </tr>\n",
       "  </thead>\n",
       "  <tbody>\n",
       "    <tr>\n",
       "      <th>0</th>\n",
       "      <td>16/01/2020</td>\n",
       "      <td>3</td>\n",
       "      <td>2020-01-07</td>\n",
       "      <td>2</td>\n",
       "      <td>SP</td>\n",
       "      <td>GVE VIII MOGI DAS CRUZES</td>\n",
       "      <td>1333.0</td>\n",
       "      <td>MOGI DAS CRUZES</td>\n",
       "      <td>353060</td>\n",
       "      <td>HOSPITAL DAS CLINICAS LUZIA DE PINHO MELO MOGI...</td>\n",
       "      <td>...</td>\n",
       "      <td>NaN</td>\n",
       "      <td>NaN</td>\n",
       "      <td>NaN</td>\n",
       "      <td>NaN</td>\n",
       "      <td>NaN</td>\n",
       "      <td>NaN</td>\n",
       "      <td>NaN</td>\n",
       "      <td>NaN</td>\n",
       "      <td>NaN</td>\n",
       "      <td>1</td>\n",
       "    </tr>\n",
       "    <tr>\n",
       "      <th>1</th>\n",
       "      <td>24/02/2020</td>\n",
       "      <td>9</td>\n",
       "      <td>2020-01-24</td>\n",
       "      <td>4</td>\n",
       "      <td>MG</td>\n",
       "      <td>BELO HORIZONTE</td>\n",
       "      <td>1449.0</td>\n",
       "      <td>BELO HORIZONTE</td>\n",
       "      <td>310620</td>\n",
       "      <td>HOSPITAL RISOLETA TOLENTINO NEVES</td>\n",
       "      <td>...</td>\n",
       "      <td>NaN</td>\n",
       "      <td>NaN</td>\n",
       "      <td>NaN</td>\n",
       "      <td>NaN</td>\n",
       "      <td>NaN</td>\n",
       "      <td>NaN</td>\n",
       "      <td>NaN</td>\n",
       "      <td>NaN</td>\n",
       "      <td>NaN</td>\n",
       "      <td>1</td>\n",
       "    </tr>\n",
       "    <tr>\n",
       "      <th>2</th>\n",
       "      <td>17/02/2020</td>\n",
       "      <td>8</td>\n",
       "      <td>2020-02-12</td>\n",
       "      <td>7</td>\n",
       "      <td>AP</td>\n",
       "      <td>NaN</td>\n",
       "      <td>NaN</td>\n",
       "      <td>MACAPA</td>\n",
       "      <td>160030</td>\n",
       "      <td>SES AP HOSPITAL DE CLINICAS DOUTOR ALBERTO LIMA</td>\n",
       "      <td>...</td>\n",
       "      <td>NaN</td>\n",
       "      <td>NaN</td>\n",
       "      <td>NaN</td>\n",
       "      <td>NaN</td>\n",
       "      <td>NaN</td>\n",
       "      <td>NaN</td>\n",
       "      <td>NaN</td>\n",
       "      <td>NaN</td>\n",
       "      <td>NaN</td>\n",
       "      <td>2</td>\n",
       "    </tr>\n",
       "    <tr>\n",
       "      <th>3</th>\n",
       "      <td>21/02/2020</td>\n",
       "      <td>8</td>\n",
       "      <td>2020-02-16</td>\n",
       "      <td>8</td>\n",
       "      <td>PE</td>\n",
       "      <td>001</td>\n",
       "      <td>1497.0</td>\n",
       "      <td>RECIFE</td>\n",
       "      <td>261160</td>\n",
       "      <td>HOSPITAL BARAO DE LUCENA</td>\n",
       "      <td>...</td>\n",
       "      <td>NaN</td>\n",
       "      <td>NaN</td>\n",
       "      <td>NaN</td>\n",
       "      <td>NaN</td>\n",
       "      <td>NaN</td>\n",
       "      <td>NaN</td>\n",
       "      <td>NaN</td>\n",
       "      <td>NaN</td>\n",
       "      <td>NaN</td>\n",
       "      <td>2</td>\n",
       "    </tr>\n",
       "    <tr>\n",
       "      <th>4</th>\n",
       "      <td>10/02/2020</td>\n",
       "      <td>7</td>\n",
       "      <td>2020-02-05</td>\n",
       "      <td>6</td>\n",
       "      <td>PB</td>\n",
       "      <td>I NRS JOAO PESSOA</td>\n",
       "      <td>1377.0</td>\n",
       "      <td>JOAO PESSOA</td>\n",
       "      <td>250750</td>\n",
       "      <td>HOSPITAL EDSON RAMALHO</td>\n",
       "      <td>...</td>\n",
       "      <td>NaN</td>\n",
       "      <td>NaN</td>\n",
       "      <td>NaN</td>\n",
       "      <td>NaN</td>\n",
       "      <td>NaN</td>\n",
       "      <td>NaN</td>\n",
       "      <td>NaN</td>\n",
       "      <td>NaN</td>\n",
       "      <td>NaN</td>\n",
       "      <td>2</td>\n",
       "    </tr>\n",
       "  </tbody>\n",
       "</table>\n",
       "<p>5 rows × 155 columns</p>\n",
       "</div>"
      ],
      "text/plain": [
       "   DT_NOTIFIC  SEM_NOT DT_SIN_PRI  SEM_PRI SG_UF_NOT  \\\n",
       "0  16/01/2020        3 2020-01-07        2        SP   \n",
       "1  24/02/2020        9 2020-01-24        4        MG   \n",
       "2  17/02/2020        8 2020-02-12        7        AP   \n",
       "3  21/02/2020        8 2020-02-16        8        PE   \n",
       "4  10/02/2020        7 2020-02-05        6        PB   \n",
       "\n",
       "                 ID_REGIONA  CO_REGIONA       ID_MUNICIP  CO_MUN_NOT  \\\n",
       "0  GVE VIII MOGI DAS CRUZES      1333.0  MOGI DAS CRUZES      353060   \n",
       "1            BELO HORIZONTE      1449.0   BELO HORIZONTE      310620   \n",
       "2                       NaN         NaN           MACAPA      160030   \n",
       "3                       001      1497.0           RECIFE      261160   \n",
       "4         I NRS JOAO PESSOA      1377.0      JOAO PESSOA      250750   \n",
       "\n",
       "                                          ID_UNIDADE  ...  TP_AM_SOR SOR_OUT  \\\n",
       "0  HOSPITAL DAS CLINICAS LUZIA DE PINHO MELO MOGI...  ...        NaN     NaN   \n",
       "1                  HOSPITAL RISOLETA TOLENTINO NEVES  ...        NaN     NaN   \n",
       "2    SES AP HOSPITAL DE CLINICAS DOUTOR ALBERTO LIMA  ...        NaN     NaN   \n",
       "3                           HOSPITAL BARAO DE LUCENA  ...        NaN     NaN   \n",
       "4                             HOSPITAL EDSON RAMALHO  ...        NaN     NaN   \n",
       "\n",
       "  DT_CO_SOR  TP_SOR  OUT_SOR DT_RES  RES_IGG  RES_IGM RES_IGA  MES  \n",
       "0       NaN     NaN      NaN    NaN      NaN      NaN     NaN    1  \n",
       "1       NaN     NaN      NaN    NaN      NaN      NaN     NaN    1  \n",
       "2       NaN     NaN      NaN    NaN      NaN      NaN     NaN    2  \n",
       "3       NaN     NaN      NaN    NaN      NaN      NaN     NaN    2  \n",
       "4       NaN     NaN      NaN    NaN      NaN      NaN     NaN    2  \n",
       "\n",
       "[5 rows x 155 columns]"
      ]
     },
     "execution_count": 13,
     "metadata": {},
     "output_type": "execute_result"
    }
   ],
   "source": [
    "#.astype('datetime64[M]')\n",
    "df['MES']=pd.DatetimeIndex(df['DT_SIN_PRI']).month #df['DT_SIN_PRI'].astype('datetime64[M]')\n",
    "df.head()"
   ]
  },
  {
   "cell_type": "code",
   "execution_count": 14,
   "metadata": {
    "scrolled": true
   },
   "outputs": [
    {
     "data": {
      "text/plain": [
       "0    2020\n",
       "1    2020\n",
       "2    2020\n",
       "3    2020\n",
       "4    2020\n",
       "Name: ANO, dtype: int64"
      ]
     },
     "execution_count": 14,
     "metadata": {},
     "output_type": "execute_result"
    }
   ],
   "source": [
    "df['ANO']=pd.DatetimeIndex(df['DT_SIN_PRI']).year #df['DT_SIN_PRI'].astype('datetime64[M]')\n",
    "df['ANO'].head()"
   ]
  },
  {
   "cell_type": "code",
   "execution_count": 15,
   "metadata": {},
   "outputs": [
    {
     "data": {
      "text/plain": [
       "array([2020, 2021, 2019], dtype=int64)"
      ]
     },
     "execution_count": 15,
     "metadata": {},
     "output_type": "execute_result"
    }
   ],
   "source": [
    "df['ANO'].unique()"
   ]
  },
  {
   "cell_type": "code",
   "execution_count": 16,
   "metadata": {},
   "outputs": [
    {
     "data": {
      "text/plain": [
       "1"
      ]
     },
     "execution_count": 16,
     "metadata": {},
     "output_type": "execute_result"
    }
   ],
   "source": [
    "df[df['ANO']==2019]['SEM_NOT'].min()"
   ]
  },
  {
   "cell_type": "code",
   "execution_count": 17,
   "metadata": {},
   "outputs": [
    {
     "data": {
      "text/plain": [
       "39"
      ]
     },
     "execution_count": 17,
     "metadata": {},
     "output_type": "execute_result"
    }
   ],
   "source": [
    "df[df['ANO']==2019]['SEM_NOT'].max()"
   ]
  },
  {
   "cell_type": "code",
   "execution_count": 18,
   "metadata": {
    "scrolled": true
   },
   "outputs": [
    {
     "data": {
      "text/plain": [
       "1"
      ]
     },
     "execution_count": 18,
     "metadata": {},
     "output_type": "execute_result"
    }
   ],
   "source": [
    "df[df['ANO']==2020]['SEM_NOT'].min()"
   ]
  },
  {
   "cell_type": "code",
   "execution_count": 19,
   "metadata": {},
   "outputs": [
    {
     "data": {
      "text/plain": [
       "53"
      ]
     },
     "execution_count": 19,
     "metadata": {},
     "output_type": "execute_result"
    }
   ],
   "source": [
    "df[df['ANO']==2020]['SEM_NOT'].max()"
   ]
  },
  {
   "cell_type": "code",
   "execution_count": 20,
   "metadata": {},
   "outputs": [
    {
     "data": {
      "text/plain": [
       "1"
      ]
     },
     "execution_count": 20,
     "metadata": {},
     "output_type": "execute_result"
    }
   ],
   "source": [
    "df[df['ANO']==2021]['SEM_NOT'].min()"
   ]
  },
  {
   "cell_type": "code",
   "execution_count": 21,
   "metadata": {},
   "outputs": [
    {
     "data": {
      "text/plain": [
       "53"
      ]
     },
     "execution_count": 21,
     "metadata": {},
     "output_type": "execute_result"
    }
   ],
   "source": [
    "df[df['ANO']==2021]['SEM_NOT'].max()"
   ]
  },
  {
   "cell_type": "code",
   "execution_count": 22,
   "metadata": {
    "scrolled": true
   },
   "outputs": [
    {
     "data": {
      "text/html": [
       "<div>\n",
       "<style scoped>\n",
       "    .dataframe tbody tr th:only-of-type {\n",
       "        vertical-align: middle;\n",
       "    }\n",
       "\n",
       "    .dataframe tbody tr th {\n",
       "        vertical-align: top;\n",
       "    }\n",
       "\n",
       "    .dataframe thead th {\n",
       "        text-align: right;\n",
       "    }\n",
       "</style>\n",
       "<table border=\"1\" class=\"dataframe\">\n",
       "  <thead>\n",
       "    <tr style=\"text-align: right;\">\n",
       "      <th></th>\n",
       "      <th>DT_NOTIFIC</th>\n",
       "      <th>SEM_NOT</th>\n",
       "      <th>DT_SIN_PRI</th>\n",
       "      <th>SEM_PRI</th>\n",
       "      <th>SG_UF_NOT</th>\n",
       "      <th>ID_REGIONA</th>\n",
       "      <th>CO_REGIONA</th>\n",
       "      <th>ID_MUNICIP</th>\n",
       "      <th>CO_MUN_NOT</th>\n",
       "      <th>ID_UNIDADE</th>\n",
       "      <th>...</th>\n",
       "      <th>SOR_OUT</th>\n",
       "      <th>DT_CO_SOR</th>\n",
       "      <th>TP_SOR</th>\n",
       "      <th>OUT_SOR</th>\n",
       "      <th>DT_RES</th>\n",
       "      <th>RES_IGG</th>\n",
       "      <th>RES_IGM</th>\n",
       "      <th>RES_IGA</th>\n",
       "      <th>MES</th>\n",
       "      <th>ANO</th>\n",
       "    </tr>\n",
       "  </thead>\n",
       "  <tbody>\n",
       "    <tr>\n",
       "      <th>2758</th>\n",
       "      <td>02/01/2021</td>\n",
       "      <td>53</td>\n",
       "      <td>2021-01-02</td>\n",
       "      <td>53</td>\n",
       "      <td>RJ</td>\n",
       "      <td>NaN</td>\n",
       "      <td>NaN</td>\n",
       "      <td>RIO DE JANEIRO</td>\n",
       "      <td>330455</td>\n",
       "      <td>CASA DE SAUDE SAO BENTO</td>\n",
       "      <td>...</td>\n",
       "      <td>NaN</td>\n",
       "      <td>NaN</td>\n",
       "      <td>NaN</td>\n",
       "      <td>NaN</td>\n",
       "      <td>NaN</td>\n",
       "      <td>NaN</td>\n",
       "      <td>NaN</td>\n",
       "      <td>NaN</td>\n",
       "      <td>1</td>\n",
       "      <td>2021</td>\n",
       "    </tr>\n",
       "    <tr>\n",
       "      <th>7453</th>\n",
       "      <td>01/01/2021</td>\n",
       "      <td>53</td>\n",
       "      <td>2021-01-01</td>\n",
       "      <td>53</td>\n",
       "      <td>SP</td>\n",
       "      <td>GVE XXIX SAO JOSE DO RIO PRETO</td>\n",
       "      <td>1354.0</td>\n",
       "      <td>SAO JOSE DO RIO PRETO</td>\n",
       "      <td>354980</td>\n",
       "      <td>HOSPITAL DO CORACAO DO IMC</td>\n",
       "      <td>...</td>\n",
       "      <td>NaN</td>\n",
       "      <td>NaN</td>\n",
       "      <td>NaN</td>\n",
       "      <td>NaN</td>\n",
       "      <td>NaN</td>\n",
       "      <td>NaN</td>\n",
       "      <td>NaN</td>\n",
       "      <td>NaN</td>\n",
       "      <td>1</td>\n",
       "      <td>2021</td>\n",
       "    </tr>\n",
       "    <tr>\n",
       "      <th>7707</th>\n",
       "      <td>02/01/2021</td>\n",
       "      <td>53</td>\n",
       "      <td>2021-01-02</td>\n",
       "      <td>53</td>\n",
       "      <td>PR</td>\n",
       "      <td>15RS MARINGA</td>\n",
       "      <td>1369.0</td>\n",
       "      <td>MARINGA</td>\n",
       "      <td>411520</td>\n",
       "      <td>HOSPITAL E MATERNIDADE SAO MARCOS DE MARINGA</td>\n",
       "      <td>...</td>\n",
       "      <td>NaN</td>\n",
       "      <td>NaN</td>\n",
       "      <td>NaN</td>\n",
       "      <td>NaN</td>\n",
       "      <td>NaN</td>\n",
       "      <td>NaN</td>\n",
       "      <td>NaN</td>\n",
       "      <td>NaN</td>\n",
       "      <td>1</td>\n",
       "      <td>2021</td>\n",
       "    </tr>\n",
       "  </tbody>\n",
       "</table>\n",
       "<p>3 rows × 156 columns</p>\n",
       "</div>"
      ],
      "text/plain": [
       "      DT_NOTIFIC  SEM_NOT DT_SIN_PRI  SEM_PRI SG_UF_NOT  \\\n",
       "2758  02/01/2021       53 2021-01-02       53        RJ   \n",
       "7453  01/01/2021       53 2021-01-01       53        SP   \n",
       "7707  02/01/2021       53 2021-01-02       53        PR   \n",
       "\n",
       "                          ID_REGIONA  CO_REGIONA             ID_MUNICIP  \\\n",
       "2758                             NaN         NaN         RIO DE JANEIRO   \n",
       "7453  GVE XXIX SAO JOSE DO RIO PRETO      1354.0  SAO JOSE DO RIO PRETO   \n",
       "7707                    15RS MARINGA      1369.0                MARINGA   \n",
       "\n",
       "      CO_MUN_NOT                                    ID_UNIDADE  ...  SOR_OUT  \\\n",
       "2758      330455                       CASA DE SAUDE SAO BENTO  ...      NaN   \n",
       "7453      354980                    HOSPITAL DO CORACAO DO IMC  ...      NaN   \n",
       "7707      411520  HOSPITAL E MATERNIDADE SAO MARCOS DE MARINGA  ...      NaN   \n",
       "\n",
       "     DT_CO_SOR TP_SOR  OUT_SOR  DT_RES RES_IGG  RES_IGM  RES_IGA MES   ANO  \n",
       "2758       NaN    NaN      NaN     NaN     NaN      NaN      NaN   1  2021  \n",
       "7453       NaN    NaN      NaN     NaN     NaN      NaN      NaN   1  2021  \n",
       "7707       NaN    NaN      NaN     NaN     NaN      NaN      NaN   1  2021  \n",
       "\n",
       "[3 rows x 156 columns]"
      ]
     },
     "execution_count": 22,
     "metadata": {},
     "output_type": "execute_result"
    }
   ],
   "source": [
    "df[(df['ANO']==2021) & (df['SEM_NOT']==53)].head(3)"
   ]
  },
  {
   "cell_type": "code",
   "execution_count": 23,
   "metadata": {},
   "outputs": [
    {
     "data": {
      "text/html": [
       "<div>\n",
       "<style scoped>\n",
       "    .dataframe tbody tr th:only-of-type {\n",
       "        vertical-align: middle;\n",
       "    }\n",
       "\n",
       "    .dataframe tbody tr th {\n",
       "        vertical-align: top;\n",
       "    }\n",
       "\n",
       "    .dataframe thead th {\n",
       "        text-align: right;\n",
       "    }\n",
       "</style>\n",
       "<table border=\"1\" class=\"dataframe\">\n",
       "  <thead>\n",
       "    <tr style=\"text-align: right;\">\n",
       "      <th></th>\n",
       "      <th>DT_NOTIFIC</th>\n",
       "      <th>SEM_NOT</th>\n",
       "      <th>DT_SIN_PRI</th>\n",
       "      <th>SEM_PRI</th>\n",
       "      <th>SG_UF_NOT</th>\n",
       "      <th>ID_REGIONA</th>\n",
       "      <th>CO_REGIONA</th>\n",
       "      <th>ID_MUNICIP</th>\n",
       "      <th>CO_MUN_NOT</th>\n",
       "      <th>ID_UNIDADE</th>\n",
       "      <th>...</th>\n",
       "      <th>SOR_OUT</th>\n",
       "      <th>DT_CO_SOR</th>\n",
       "      <th>TP_SOR</th>\n",
       "      <th>OUT_SOR</th>\n",
       "      <th>DT_RES</th>\n",
       "      <th>RES_IGG</th>\n",
       "      <th>RES_IGM</th>\n",
       "      <th>RES_IGA</th>\n",
       "      <th>MES</th>\n",
       "      <th>ANO</th>\n",
       "    </tr>\n",
       "  </thead>\n",
       "  <tbody>\n",
       "    <tr>\n",
       "      <th>7910</th>\n",
       "      <td>25/09/2020</td>\n",
       "      <td>39</td>\n",
       "      <td>2020-01-23</td>\n",
       "      <td>4</td>\n",
       "      <td>TO</td>\n",
       "      <td>NaN</td>\n",
       "      <td>NaN</td>\n",
       "      <td>ARAGUAINA</td>\n",
       "      <td>170210</td>\n",
       "      <td>HOSPITAL MUNICIPAL DE ARAGUAINA</td>\n",
       "      <td>...</td>\n",
       "      <td>NaN</td>\n",
       "      <td>NaN</td>\n",
       "      <td>NaN</td>\n",
       "      <td>NaN</td>\n",
       "      <td>NaN</td>\n",
       "      <td>NaN</td>\n",
       "      <td>NaN</td>\n",
       "      <td>NaN</td>\n",
       "      <td>1</td>\n",
       "      <td>2020</td>\n",
       "    </tr>\n",
       "    <tr>\n",
       "      <th>376651</th>\n",
       "      <td>23/09/2020</td>\n",
       "      <td>39</td>\n",
       "      <td>2020-01-30</td>\n",
       "      <td>5</td>\n",
       "      <td>RO</td>\n",
       "      <td>II DRS CACOAL</td>\n",
       "      <td>1480.0</td>\n",
       "      <td>CACOAL</td>\n",
       "      <td>110004</td>\n",
       "      <td>HOSPITAL DE URGENCIA E EMERGENCIA REGIONAL DE ...</td>\n",
       "      <td>...</td>\n",
       "      <td>NaN</td>\n",
       "      <td>NaN</td>\n",
       "      <td>NaN</td>\n",
       "      <td>NaN</td>\n",
       "      <td>NaN</td>\n",
       "      <td>NaN</td>\n",
       "      <td>NaN</td>\n",
       "      <td>NaN</td>\n",
       "      <td>1</td>\n",
       "      <td>2020</td>\n",
       "    </tr>\n",
       "    <tr>\n",
       "      <th>467006</th>\n",
       "      <td>21/09/2020</td>\n",
       "      <td>39</td>\n",
       "      <td>2020-01-01</td>\n",
       "      <td>1</td>\n",
       "      <td>SP</td>\n",
       "      <td>GVE VII SANTO ANDRE</td>\n",
       "      <td>1332.0</td>\n",
       "      <td>SANTO ANDRE</td>\n",
       "      <td>354780</td>\n",
       "      <td>DEPARTAMENTO DE VIGILANCIA SAUDE SANTO ANDRE</td>\n",
       "      <td>...</td>\n",
       "      <td>NaN</td>\n",
       "      <td>NaN</td>\n",
       "      <td>NaN</td>\n",
       "      <td>NaN</td>\n",
       "      <td>NaN</td>\n",
       "      <td>NaN</td>\n",
       "      <td>NaN</td>\n",
       "      <td>NaN</td>\n",
       "      <td>1</td>\n",
       "      <td>2020</td>\n",
       "    </tr>\n",
       "  </tbody>\n",
       "</table>\n",
       "<p>3 rows × 156 columns</p>\n",
       "</div>"
      ],
      "text/plain": [
       "        DT_NOTIFIC  SEM_NOT DT_SIN_PRI  SEM_PRI SG_UF_NOT  \\\n",
       "7910    25/09/2020       39 2020-01-23        4        TO   \n",
       "376651  23/09/2020       39 2020-01-30        5        RO   \n",
       "467006  21/09/2020       39 2020-01-01        1        SP   \n",
       "\n",
       "                 ID_REGIONA  CO_REGIONA   ID_MUNICIP  CO_MUN_NOT  \\\n",
       "7910                    NaN         NaN    ARAGUAINA      170210   \n",
       "376651        II DRS CACOAL      1480.0       CACOAL      110004   \n",
       "467006  GVE VII SANTO ANDRE      1332.0  SANTO ANDRE      354780   \n",
       "\n",
       "                                               ID_UNIDADE  ...  SOR_OUT  \\\n",
       "7910                      HOSPITAL MUNICIPAL DE ARAGUAINA  ...      NaN   \n",
       "376651  HOSPITAL DE URGENCIA E EMERGENCIA REGIONAL DE ...  ...      NaN   \n",
       "467006       DEPARTAMENTO DE VIGILANCIA SAUDE SANTO ANDRE  ...      NaN   \n",
       "\n",
       "       DT_CO_SOR TP_SOR  OUT_SOR  DT_RES RES_IGG  RES_IGM  RES_IGA MES   ANO  \n",
       "7910         NaN    NaN      NaN     NaN     NaN      NaN      NaN   1  2020  \n",
       "376651       NaN    NaN      NaN     NaN     NaN      NaN      NaN   1  2020  \n",
       "467006       NaN    NaN      NaN     NaN     NaN      NaN      NaN   1  2020  \n",
       "\n",
       "[3 rows x 156 columns]"
      ]
     },
     "execution_count": 23,
     "metadata": {},
     "output_type": "execute_result"
    }
   ],
   "source": [
    "df[(df['ANO']==2020) & (df['SEM_NOT']==39) & (df['MES']==1)].head(3)"
   ]
  },
  {
   "cell_type": "code",
   "execution_count": 24,
   "metadata": {},
   "outputs": [
    {
     "name": "stdout",
     "output_type": "stream",
     "text": [
      "0 DT_NOTIFIC\n",
      "1 SEM_NOT\n",
      "2 DT_SIN_PRI\n",
      "3 SEM_PRI\n",
      "4 SG_UF_NOT\n",
      "5 ID_REGIONA\n",
      "6 CO_REGIONA\n",
      "7 ID_MUNICIP\n",
      "8 CO_MUN_NOT\n",
      "9 ID_UNIDADE\n",
      "10 CO_UNI_NOT\n",
      "11 CS_SEXO\n",
      "12 DT_NASC\n",
      "13 NU_IDADE_N\n",
      "14 TP_IDADE\n",
      "15 COD_IDADE\n",
      "16 CS_GESTANT\n",
      "17 CS_RACA\n",
      "18 CS_ETINIA\n",
      "19 CS_ESCOL_N\n",
      "20 ID_PAIS\n",
      "21 CO_PAIS\n",
      "22 SG_UF\n",
      "23 ID_RG_RESI\n",
      "24 CO_RG_RESI\n",
      "25 ID_MN_RESI\n",
      "26 CO_MUN_RES\n",
      "27 CS_ZONA\n",
      "28 SURTO_SG\n",
      "29 NOSOCOMIAL\n",
      "30 AVE_SUINO\n",
      "31 FEBRE\n",
      "32 TOSSE\n",
      "33 GARGANTA\n",
      "34 DISPNEIA\n",
      "35 DESC_RESP\n",
      "36 SATURACAO\n",
      "37 DIARREIA\n",
      "38 VOMITO\n",
      "39 OUTRO_SIN\n",
      "40 OUTRO_DES\n",
      "41 PUERPERA\n",
      "42 FATOR_RISC\n",
      "43 CARDIOPATI\n",
      "44 HEMATOLOGI\n",
      "45 SIND_DOWN\n",
      "46 HEPATICA\n",
      "47 ASMA\n",
      "48 DIABETES\n",
      "49 NEUROLOGIC\n",
      "50 PNEUMOPATI\n",
      "51 IMUNODEPRE\n",
      "52 RENAL\n",
      "53 OBESIDADE\n",
      "54 OBES_IMC\n",
      "55 OUT_MORBI\n",
      "56 MORB_DESC\n",
      "57 VACINA\n",
      "58 DT_UT_DOSE\n",
      "59 MAE_VAC\n",
      "60 DT_VAC_MAE\n",
      "61 M_AMAMENTA\n",
      "62 DT_DOSEUNI\n",
      "63 DT_1_DOSE\n",
      "64 DT_2_DOSE\n",
      "65 ANTIVIRAL\n",
      "66 TP_ANTIVIR\n",
      "67 OUT_ANTIV\n",
      "68 DT_ANTIVIR\n",
      "69 HOSPITAL\n",
      "70 DT_INTERNA\n",
      "71 SG_UF_INTE\n",
      "72 ID_RG_INTE\n",
      "73 CO_RG_INTE\n",
      "74 ID_MN_INTE\n",
      "75 CO_MU_INTE\n",
      "76 UTI\n",
      "77 DT_ENTUTI\n",
      "78 DT_SAIDUTI\n",
      "79 SUPORT_VEN\n",
      "80 RAIOX_RES\n",
      "81 RAIOX_OUT\n",
      "82 DT_RAIOX\n",
      "83 AMOSTRA\n",
      "84 DT_COLETA\n",
      "85 TP_AMOSTRA\n",
      "86 OUT_AMOST\n",
      "87 PCR_RESUL\n",
      "88 DT_PCR\n",
      "89 POS_PCRFLU\n",
      "90 TP_FLU_PCR\n",
      "91 PCR_FLUASU\n",
      "92 FLUASU_OUT\n",
      "93 PCR_FLUBLI\n",
      "94 FLUBLI_OUT\n",
      "95 POS_PCROUT\n",
      "96 PCR_VSR\n",
      "97 PCR_PARA1\n",
      "98 PCR_PARA2\n",
      "99 PCR_PARA3\n",
      "100 PCR_PARA4\n",
      "101 PCR_ADENO\n",
      "102 PCR_METAP\n",
      "103 PCR_BOCA\n",
      "104 PCR_RINO\n",
      "105 PCR_OUTRO\n",
      "106 DS_PCR_OUT\n",
      "107 CLASSI_FIN\n",
      "108 CLASSI_OUT\n",
      "109 CRITERIO\n",
      "110 EVOLUCAO\n",
      "111 DT_EVOLUCA\n",
      "112 DT_ENCERRA\n",
      "113 DT_DIGITA\n",
      "114 HISTO_VGM\n",
      "115 PAIS_VGM\n",
      "116 CO_PS_VGM\n",
      "117 LO_PS_VGM\n",
      "118 DT_VGM\n",
      "119 DT_RT_VGM\n",
      "120 PCR_SARS2\n",
      "121 PAC_COCBO\n",
      "122 PAC_DSCBO\n",
      "123 OUT_ANIM\n",
      "124 DOR_ABD\n",
      "125 FADIGA\n",
      "126 PERD_OLFT\n",
      "127 PERD_PALA\n",
      "128 TOMO_RES\n",
      "129 TOMO_OUT\n",
      "130 DT_TOMO\n",
      "131 TP_TES_AN\n",
      "132 DT_RES_AN\n",
      "133 RES_AN\n",
      "134 POS_AN_FLU\n",
      "135 TP_FLU_AN\n",
      "136 POS_AN_OUT\n",
      "137 AN_SARS2\n",
      "138 AN_VSR\n",
      "139 AN_PARA1\n",
      "140 AN_PARA2\n",
      "141 AN_PARA3\n",
      "142 AN_ADENO\n",
      "143 AN_OUTRO\n",
      "144 DS_AN_OUT\n",
      "145 TP_AM_SOR\n",
      "146 SOR_OUT\n",
      "147 DT_CO_SOR\n",
      "148 TP_SOR\n",
      "149 OUT_SOR\n",
      "150 DT_RES\n",
      "151 RES_IGG\n",
      "152 RES_IGM\n",
      "153 RES_IGA\n",
      "154 MES\n",
      "155 ANO\n"
     ]
    }
   ],
   "source": [
    "#df.columns\n",
    "for i in range(len(df.columns)): print(i, df.columns[i])"
   ]
  },
  {
   "cell_type": "code",
   "execution_count": 25,
   "metadata": {},
   "outputs": [],
   "source": [
    "#df[df['ANO']==2020]['SEM_NOT'] = df[df['ANO']==2020]['SEM_NOT']+39\n",
    "#df[df['ANO']==2020]['SEM_NOT'] = df[df['ANO']==2020]['SEM_NOT'].apply(lambda x: x+39)\n",
    "#for i in df[df['ANO']==2021]['SEM_NOT'].head():\n",
    "#    print(df.loc[i])\n",
    "#def atualiza(x, mes, ano):\n",
    "#    if (x == 53 & mes == 1 & ano == 2020):\n",
    "#        print(r\"Excessão\")\n",
    "#        return x*(-1)\n",
    "#    return x +1000\n",
    "#df = df['SEM_NOT'].apply(atualiza(df['SEM_NOT'], df['MES'], df['ANO']))    \n",
    "#df[(df['ANO']==2020) & (df['SEM_NOT']==39) & (df['MES']==1)].head(3)\n",
    "\n",
    "#def alterar():\n",
    "#    for (i,j,k) in (df['ANO'],df['MES'],df['SEM_NOT']):\n",
    "#        #if ((i['ANO'] == 2020) & (i['MES'] == 1) & (i['SEM_NOT'] == 53) ):\n",
    "#        #if ((i[155] == 2020) & (i[154] == 1) & (i[1] == 53) ):\n",
    "#        print(\"oi\")\n",
    "#alterar()\n",
    "#df[df['ANO']==2020]['SEM_NOT'].min()"
   ]
  },
  {
   "cell_type": "code",
   "execution_count": 26,
   "metadata": {},
   "outputs": [
    {
     "data": {
      "text/plain": [
       "1187048"
      ]
     },
     "execution_count": 26,
     "metadata": {},
     "output_type": "execute_result"
    }
   ],
   "source": [
    "df.shape[0]"
   ]
  },
  {
   "cell_type": "code",
   "execution_count": 27,
   "metadata": {},
   "outputs": [
    {
     "name": "stdout",
     "output_type": "stream",
     "text": [
      "63410\n",
      "2020\n",
      "102237\n",
      "2020\n",
      "275319\n",
      "2020\n",
      "332224\n",
      "2020\n",
      "332277\n",
      "2020\n"
     ]
    },
    {
     "ename": "KeyboardInterrupt",
     "evalue": "",
     "output_type": "error",
     "traceback": [
      "\u001b[1;31m---------------------------------------------------------------------------\u001b[0m",
      "\u001b[1;31mKeyboardInterrupt\u001b[0m                         Traceback (most recent call last)",
      "\u001b[1;32m<ipython-input-27-59eaed9d08e0>\u001b[0m in \u001b[0;36m<module>\u001b[1;34m\u001b[0m\n\u001b[0;32m      1\u001b[0m \u001b[1;32mfor\u001b[0m \u001b[0mi\u001b[0m \u001b[1;32min\u001b[0m \u001b[0mrange\u001b[0m\u001b[1;33m(\u001b[0m\u001b[0mdf\u001b[0m\u001b[1;33m.\u001b[0m\u001b[0mshape\u001b[0m\u001b[1;33m[\u001b[0m\u001b[1;36m0\u001b[0m\u001b[1;33m]\u001b[0m\u001b[1;33m)\u001b[0m\u001b[1;33m:\u001b[0m\u001b[1;33m\u001b[0m\u001b[1;33m\u001b[0m\u001b[0m\n\u001b[1;32m----> 2\u001b[1;33m     \u001b[1;32mif\u001b[0m \u001b[1;33m(\u001b[0m\u001b[1;33m(\u001b[0m\u001b[0mdf\u001b[0m\u001b[1;33m.\u001b[0m\u001b[0mloc\u001b[0m\u001b[1;33m[\u001b[0m\u001b[0mi\u001b[0m\u001b[1;33m]\u001b[0m\u001b[1;33m[\u001b[0m\u001b[1;36m155\u001b[0m\u001b[1;33m]\u001b[0m \u001b[1;33m==\u001b[0m \u001b[1;36m2020\u001b[0m\u001b[1;33m)\u001b[0m \u001b[1;33m&\u001b[0m \u001b[1;33m(\u001b[0m\u001b[0mdf\u001b[0m\u001b[1;33m.\u001b[0m\u001b[0mloc\u001b[0m\u001b[1;33m[\u001b[0m\u001b[0mi\u001b[0m\u001b[1;33m]\u001b[0m\u001b[1;33m[\u001b[0m\u001b[1;36m154\u001b[0m\u001b[1;33m]\u001b[0m \u001b[1;33m==\u001b[0m \u001b[1;36m1\u001b[0m\u001b[1;33m)\u001b[0m \u001b[1;33m&\u001b[0m \u001b[1;33m(\u001b[0m\u001b[0mdf\u001b[0m\u001b[1;33m.\u001b[0m\u001b[0mloc\u001b[0m\u001b[1;33m[\u001b[0m\u001b[0mi\u001b[0m\u001b[1;33m]\u001b[0m\u001b[1;33m[\u001b[0m\u001b[1;36m1\u001b[0m\u001b[1;33m]\u001b[0m \u001b[1;33m==\u001b[0m \u001b[1;36m53\u001b[0m\u001b[1;33m)\u001b[0m \u001b[1;33m)\u001b[0m\u001b[1;33m:\u001b[0m\u001b[1;33m\u001b[0m\u001b[1;33m\u001b[0m\u001b[0m\n\u001b[0m\u001b[0;32m      3\u001b[0m         \u001b[0mprint\u001b[0m\u001b[1;33m(\u001b[0m\u001b[0mi\u001b[0m\u001b[1;33m)\u001b[0m\u001b[1;33m\u001b[0m\u001b[1;33m\u001b[0m\u001b[0m\n\u001b[0;32m      4\u001b[0m         \u001b[0mprint\u001b[0m\u001b[1;33m(\u001b[0m\u001b[0mdf\u001b[0m\u001b[1;33m.\u001b[0m\u001b[0mloc\u001b[0m\u001b[1;33m[\u001b[0m\u001b[0mi\u001b[0m\u001b[1;33m]\u001b[0m\u001b[1;33m[\u001b[0m\u001b[1;36m155\u001b[0m\u001b[1;33m]\u001b[0m\u001b[1;33m)\u001b[0m\u001b[1;33m\u001b[0m\u001b[1;33m\u001b[0m\u001b[0m\n",
      "\u001b[1;32m~\\anaconda3\\lib\\site-packages\\pandas\\core\\indexing.py\u001b[0m in \u001b[0;36m__getitem__\u001b[1;34m(self, key)\u001b[0m\n\u001b[0;32m    877\u001b[0m \u001b[1;33m\u001b[0m\u001b[0m\n\u001b[0;32m    878\u001b[0m             \u001b[0mmaybe_callable\u001b[0m \u001b[1;33m=\u001b[0m \u001b[0mcom\u001b[0m\u001b[1;33m.\u001b[0m\u001b[0mapply_if_callable\u001b[0m\u001b[1;33m(\u001b[0m\u001b[0mkey\u001b[0m\u001b[1;33m,\u001b[0m \u001b[0mself\u001b[0m\u001b[1;33m.\u001b[0m\u001b[0mobj\u001b[0m\u001b[1;33m)\u001b[0m\u001b[1;33m\u001b[0m\u001b[1;33m\u001b[0m\u001b[0m\n\u001b[1;32m--> 879\u001b[1;33m             \u001b[1;32mreturn\u001b[0m \u001b[0mself\u001b[0m\u001b[1;33m.\u001b[0m\u001b[0m_getitem_axis\u001b[0m\u001b[1;33m(\u001b[0m\u001b[0mmaybe_callable\u001b[0m\u001b[1;33m,\u001b[0m \u001b[0maxis\u001b[0m\u001b[1;33m=\u001b[0m\u001b[0maxis\u001b[0m\u001b[1;33m)\u001b[0m\u001b[1;33m\u001b[0m\u001b[1;33m\u001b[0m\u001b[0m\n\u001b[0m\u001b[0;32m    880\u001b[0m \u001b[1;33m\u001b[0m\u001b[0m\n\u001b[0;32m    881\u001b[0m     \u001b[1;32mdef\u001b[0m \u001b[0m_is_scalar_access\u001b[0m\u001b[1;33m(\u001b[0m\u001b[0mself\u001b[0m\u001b[1;33m,\u001b[0m \u001b[0mkey\u001b[0m\u001b[1;33m:\u001b[0m \u001b[0mTuple\u001b[0m\u001b[1;33m)\u001b[0m\u001b[1;33m:\u001b[0m\u001b[1;33m\u001b[0m\u001b[1;33m\u001b[0m\u001b[0m\n",
      "\u001b[1;32m~\\anaconda3\\lib\\site-packages\\pandas\\core\\indexing.py\u001b[0m in \u001b[0;36m_getitem_axis\u001b[1;34m(self, key, axis)\u001b[0m\n\u001b[0;32m   1108\u001b[0m         \u001b[1;31m# fall thru to straight lookup\u001b[0m\u001b[1;33m\u001b[0m\u001b[1;33m\u001b[0m\u001b[1;33m\u001b[0m\u001b[0m\n\u001b[0;32m   1109\u001b[0m         \u001b[0mself\u001b[0m\u001b[1;33m.\u001b[0m\u001b[0m_validate_key\u001b[0m\u001b[1;33m(\u001b[0m\u001b[0mkey\u001b[0m\u001b[1;33m,\u001b[0m \u001b[0maxis\u001b[0m\u001b[1;33m)\u001b[0m\u001b[1;33m\u001b[0m\u001b[1;33m\u001b[0m\u001b[0m\n\u001b[1;32m-> 1110\u001b[1;33m         \u001b[1;32mreturn\u001b[0m \u001b[0mself\u001b[0m\u001b[1;33m.\u001b[0m\u001b[0m_get_label\u001b[0m\u001b[1;33m(\u001b[0m\u001b[0mkey\u001b[0m\u001b[1;33m,\u001b[0m \u001b[0maxis\u001b[0m\u001b[1;33m=\u001b[0m\u001b[0maxis\u001b[0m\u001b[1;33m)\u001b[0m\u001b[1;33m\u001b[0m\u001b[1;33m\u001b[0m\u001b[0m\n\u001b[0m\u001b[0;32m   1111\u001b[0m \u001b[1;33m\u001b[0m\u001b[0m\n\u001b[0;32m   1112\u001b[0m     \u001b[1;32mdef\u001b[0m \u001b[0m_get_slice_axis\u001b[0m\u001b[1;33m(\u001b[0m\u001b[0mself\u001b[0m\u001b[1;33m,\u001b[0m \u001b[0mslice_obj\u001b[0m\u001b[1;33m:\u001b[0m \u001b[0mslice\u001b[0m\u001b[1;33m,\u001b[0m \u001b[0maxis\u001b[0m\u001b[1;33m:\u001b[0m \u001b[0mint\u001b[0m\u001b[1;33m)\u001b[0m\u001b[1;33m:\u001b[0m\u001b[1;33m\u001b[0m\u001b[1;33m\u001b[0m\u001b[0m\n",
      "\u001b[1;32m~\\anaconda3\\lib\\site-packages\\pandas\\core\\indexing.py\u001b[0m in \u001b[0;36m_get_label\u001b[1;34m(self, label, axis)\u001b[0m\n\u001b[0;32m   1057\u001b[0m     \u001b[1;32mdef\u001b[0m \u001b[0m_get_label\u001b[0m\u001b[1;33m(\u001b[0m\u001b[0mself\u001b[0m\u001b[1;33m,\u001b[0m \u001b[0mlabel\u001b[0m\u001b[1;33m,\u001b[0m \u001b[0maxis\u001b[0m\u001b[1;33m:\u001b[0m \u001b[0mint\u001b[0m\u001b[1;33m)\u001b[0m\u001b[1;33m:\u001b[0m\u001b[1;33m\u001b[0m\u001b[1;33m\u001b[0m\u001b[0m\n\u001b[0;32m   1058\u001b[0m         \u001b[1;31m# GH#5667 this will fail if the label is not present in the axis.\u001b[0m\u001b[1;33m\u001b[0m\u001b[1;33m\u001b[0m\u001b[1;33m\u001b[0m\u001b[0m\n\u001b[1;32m-> 1059\u001b[1;33m         \u001b[1;32mreturn\u001b[0m \u001b[0mself\u001b[0m\u001b[1;33m.\u001b[0m\u001b[0mobj\u001b[0m\u001b[1;33m.\u001b[0m\u001b[0mxs\u001b[0m\u001b[1;33m(\u001b[0m\u001b[0mlabel\u001b[0m\u001b[1;33m,\u001b[0m \u001b[0maxis\u001b[0m\u001b[1;33m=\u001b[0m\u001b[0maxis\u001b[0m\u001b[1;33m)\u001b[0m\u001b[1;33m\u001b[0m\u001b[1;33m\u001b[0m\u001b[0m\n\u001b[0m\u001b[0;32m   1060\u001b[0m \u001b[1;33m\u001b[0m\u001b[0m\n\u001b[0;32m   1061\u001b[0m     \u001b[1;32mdef\u001b[0m \u001b[0m_handle_lowerdim_multi_index_axis0\u001b[0m\u001b[1;33m(\u001b[0m\u001b[0mself\u001b[0m\u001b[1;33m,\u001b[0m \u001b[0mtup\u001b[0m\u001b[1;33m:\u001b[0m \u001b[0mTuple\u001b[0m\u001b[1;33m)\u001b[0m\u001b[1;33m:\u001b[0m\u001b[1;33m\u001b[0m\u001b[1;33m\u001b[0m\u001b[0m\n",
      "\u001b[1;32m~\\anaconda3\\lib\\site-packages\\pandas\\core\\generic.py\u001b[0m in \u001b[0;36mxs\u001b[1;34m(self, key, axis, level, drop_level)\u001b[0m\n\u001b[0;32m   3509\u001b[0m                 \u001b[1;32mreturn\u001b[0m \u001b[0mself\u001b[0m\u001b[1;33m.\u001b[0m\u001b[0m_values\u001b[0m\u001b[1;33m[\u001b[0m\u001b[0mloc\u001b[0m\u001b[1;33m]\u001b[0m\u001b[1;33m\u001b[0m\u001b[1;33m\u001b[0m\u001b[0m\n\u001b[0;32m   3510\u001b[0m \u001b[1;33m\u001b[0m\u001b[0m\n\u001b[1;32m-> 3511\u001b[1;33m             \u001b[0mnew_values\u001b[0m \u001b[1;33m=\u001b[0m \u001b[0mself\u001b[0m\u001b[1;33m.\u001b[0m\u001b[0m_mgr\u001b[0m\u001b[1;33m.\u001b[0m\u001b[0mfast_xs\u001b[0m\u001b[1;33m(\u001b[0m\u001b[0mloc\u001b[0m\u001b[1;33m)\u001b[0m\u001b[1;33m\u001b[0m\u001b[1;33m\u001b[0m\u001b[0m\n\u001b[0m\u001b[0;32m   3512\u001b[0m \u001b[1;33m\u001b[0m\u001b[0m\n\u001b[0;32m   3513\u001b[0m             result = self._constructor_sliced(\n",
      "\u001b[1;32m~\\anaconda3\\lib\\site-packages\\pandas\\core\\internals\\managers.py\u001b[0m in \u001b[0;36mfast_xs\u001b[1;34m(self, loc)\u001b[0m\n\u001b[0;32m    946\u001b[0m             \u001b[0mresult\u001b[0m \u001b[1;33m=\u001b[0m \u001b[0mnp\u001b[0m\u001b[1;33m.\u001b[0m\u001b[0mempty\u001b[0m\u001b[1;33m(\u001b[0m\u001b[0mn\u001b[0m\u001b[1;33m,\u001b[0m \u001b[0mdtype\u001b[0m\u001b[1;33m=\u001b[0m\u001b[0mobject\u001b[0m\u001b[1;33m)\u001b[0m\u001b[1;33m\u001b[0m\u001b[1;33m\u001b[0m\u001b[0m\n\u001b[0;32m    947\u001b[0m         \u001b[1;32melse\u001b[0m\u001b[1;33m:\u001b[0m\u001b[1;33m\u001b[0m\u001b[1;33m\u001b[0m\u001b[0m\n\u001b[1;32m--> 948\u001b[1;33m             \u001b[0mresult\u001b[0m \u001b[1;33m=\u001b[0m \u001b[0mnp\u001b[0m\u001b[1;33m.\u001b[0m\u001b[0mempty\u001b[0m\u001b[1;33m(\u001b[0m\u001b[0mn\u001b[0m\u001b[1;33m,\u001b[0m \u001b[0mdtype\u001b[0m\u001b[1;33m=\u001b[0m\u001b[0mdtype\u001b[0m\u001b[1;33m)\u001b[0m\u001b[1;33m\u001b[0m\u001b[1;33m\u001b[0m\u001b[0m\n\u001b[0m\u001b[0;32m    949\u001b[0m \u001b[1;33m\u001b[0m\u001b[0m\n\u001b[0;32m    950\u001b[0m         \u001b[1;32mfor\u001b[0m \u001b[0mblk\u001b[0m \u001b[1;32min\u001b[0m \u001b[0mself\u001b[0m\u001b[1;33m.\u001b[0m\u001b[0mblocks\u001b[0m\u001b[1;33m:\u001b[0m\u001b[1;33m\u001b[0m\u001b[1;33m\u001b[0m\u001b[0m\n",
      "\u001b[1;31mKeyboardInterrupt\u001b[0m: "
     ]
    }
   ],
   "source": [
    "for i in range(df.shape[0]):\n",
    "    if ((df.loc[i][155] == 2020) & (df.loc[i][154] == 1) & (df.loc[i][1] == 53) ):\n",
    "        print(i)\n",
    "        print(df.loc[i][155])"
   ]
  },
  {
   "cell_type": "code",
   "execution_count": null,
   "metadata": {},
   "outputs": [],
   "source": [
    "#dicionário de dados para facilitar a leitura\n",
    "Escolaridade = {0:'Sem', \n",
    "                1:'Fund1', \n",
    "                2:'Fund2', 3:'Médio',\n",
    "                4:'Superior', \n",
    "                5:'Não se aplica',\n",
    "                9:'Ignorado'}\n",
    "Raca = {1:'Branca', 2:'Preta', 3:'Amarela', 4:'Parda', 5:'Indígena', 9:'Ignorado'}\n",
    "#Obito\n",
    "#Covid\n",
    "\n"
   ]
  },
  {
   "cell_type": "code",
   "execution_count": null,
   "metadata": {},
   "outputs": [],
   "source": [
    "#Corrige Raça campo 'CS_RACA'\n",
    "df.loc[(df.CS_RACA.isnull()), 'CS_RACA'] = 9\n",
    "df['CS_RACA'] = df['CS_RACA'].apply(lambda x: Raca[x])\n",
    "\n",
    "#Corrige Escolaridade campo 'CS_ESCOL_N'\n",
    "df.loc[(df.CS_ESCOL_N.isnull()), 'CS_ESCOL_N'] = 9\n",
    "df['CS_ESCOL_N'] = df['CS_ESCOL_N'].apply(lambda x: Escolaridade[x])\n",
    "\n",
    "#Corrige Óbito\n",
    "\n",
    "#Corrige Covid\n",
    "\n"
   ]
  },
  {
   "cell_type": "code",
   "execution_count": null,
   "metadata": {},
   "outputs": [],
   "source": [
    "#Transformar todas as semanas de notificação como variável numérica (estava misturado texto e número)\n",
    "df.SEM_NOT = df.SEM_NOT.apply(pd.to_numeric, errors='coerce')\n",
    "df['DT_NOTIFIC'].dropna(inplace=True)"
   ]
  },
  {
   "cell_type": "code",
   "execution_count": null,
   "metadata": {},
   "outputs": [],
   "source": [
    "#Apresenta os novos valores para esses campos\n",
    "a = df[[\"SEM_NOT\", \"DT_NOTIFIC\", \"CS_RACA\", \"CS_ESCOL_N\"]].sample(10)"
   ]
  },
  {
   "cell_type": "code",
   "execution_count": null,
   "metadata": {},
   "outputs": [],
   "source": [
    "a.describe()"
   ]
  },
  {
   "cell_type": "code",
   "execution_count": null,
   "metadata": {},
   "outputs": [],
   "source": [
    "a[\"CS_ESCOL_N\"].value_counts()"
   ]
  },
  {
   "cell_type": "code",
   "execution_count": null,
   "metadata": {},
   "outputs": [],
   "source": [
    "df.groupby('SEM_NOT').size().plot()"
   ]
  },
  {
   "cell_type": "code",
   "execution_count": null,
   "metadata": {},
   "outputs": [],
   "source": [
    "df.groupby('SG_UF_NOT').size().sort_values().tail(5).plot(kind='barh')"
   ]
  },
  {
   "cell_type": "code",
   "execution_count": null,
   "metadata": {},
   "outputs": [],
   "source": [
    "df.groupby('CS_RACA').size().sort_values()"
   ]
  },
  {
   "cell_type": "code",
   "execution_count": null,
   "metadata": {},
   "outputs": [],
   "source": [
    "df.groupby('CS_ESCOL_N').size().sort_values(ascending=False)"
   ]
  },
  {
   "cell_type": "code",
   "execution_count": null,
   "metadata": {},
   "outputs": [],
   "source": [
    "df.query('HISTO_VGM == 1 and PAIS_VGM != \"BRASIL\"').groupby('PAIS_VGM').size().sort_values(ascending=False).head(10).plot(kind='bar')"
   ]
  },
  {
   "cell_type": "code",
   "execution_count": null,
   "metadata": {},
   "outputs": [],
   "source": [
    "df.groupby('SEM_NOT').size().plot(kind='bar')\n"
   ]
  },
  {
   "cell_type": "code",
   "execution_count": null,
   "metadata": {},
   "outputs": [],
   "source": [
    "df.query('ID_MUNICIP == \"ATIBAIA\"').groupby('SEM_NOT').size().plot(kind='bar')"
   ]
  },
  {
   "cell_type": "code",
   "execution_count": null,
   "metadata": {},
   "outputs": [],
   "source": [
    "\n",
    "df.query('ID_MUNICIP == \"BRAGANCA PAULISTA\"').groupby('SEM_NOT').size().plot(kind='bar', title=\"Casos em Bragança Paulista - 2021\")"
   ]
  },
  {
   "cell_type": "code",
   "execution_count": null,
   "metadata": {},
   "outputs": [],
   "source": [
    "#OBITOS DE COVID POR SEMANA\n",
    "sns.set(rc={'figure.figsize':(11.7,8.27)})\n",
    "#sns.title(\"Teste\")\n",
    "fig = sns.countplot(data=df[(df['CLASSI_FIN'] == 5)&(df[\"EVOLUCAO\"]==2)], x = 'SEM_NOT')#, hue = 'OBITO')\n",
    "plt.xlabel(\"Semana Epidemiológica\")\n",
    "plt.ylabel(\"Óbitos\")\n",
    "plt.title(\"ÓBITOS DE COVID POR SEMANA\") # You can comment this line out if you don't need title\n",
    "plt.show(fig)"
   ]
  },
  {
   "cell_type": "code",
   "execution_count": null,
   "metadata": {},
   "outputs": [],
   "source": [
    "#OBITOS DE COVID POR SEMANA\n",
    "sns.set(rc={'figure.figsize':(11.7,8.27)})\n",
    "#sns.title(\"Teste\")\n",
    "fig = sns.countplot(data=df[(df[\"EVOLUCAO\"]==2)&(df['CLASSI_FIN'] == 5)], x = 'SEM_NOT')#, hue = 'OBITO')\n",
    "plt.xlabel(\"Semana Epidemiológica\")\n",
    "plt.ylabel(\"Óbitos\")\n",
    "plt.title(\"ÓBITOS DE COVID POR SEMANA\") # You can comment this line out if you don't need title\n",
    "plt.show(fig)"
   ]
  },
  {
   "cell_type": "code",
   "execution_count": null,
   "metadata": {},
   "outputs": [],
   "source": [
    "df[\"DT_SIN_PRI\"].dtypes\n",
    "\n"
   ]
  },
  {
   "cell_type": "code",
   "execution_count": null,
   "metadata": {},
   "outputs": [],
   "source": [
    "df.select_dtypes(include='number').head()"
   ]
  },
  {
   "cell_type": "code",
   "execution_count": null,
   "metadata": {},
   "outputs": [],
   "source": [
    "df.head(5)"
   ]
  },
  {
   "cell_type": "code",
   "execution_count": null,
   "metadata": {
    "scrolled": true
   },
   "outputs": [],
   "source": [
    "#df['DT_SIN_PRI'] = df['DT_SIN_PRI'].astype(date)\n",
    "# verwriting data after changing format\n",
    "df['DT_SIN_PRI']= pd.to_datetime(df['DT_SIN_PRI'], format='%d/%m/%Y')\n",
    "df.head(5)"
   ]
  },
  {
   "cell_type": "code",
   "execution_count": null,
   "metadata": {},
   "outputs": [],
   "source": [
    "df[\"DT_SIN_PRI\"].min()"
   ]
  },
  {
   "cell_type": "code",
   "execution_count": null,
   "metadata": {
    "scrolled": true
   },
   "outputs": [],
   "source": [
    "df[\"DT_SIN_PRI\"].max()"
   ]
  },
  {
   "cell_type": "code",
   "execution_count": null,
   "metadata": {},
   "outputs": [],
   "source": [
    "df['SEM_NOT'].unique()"
   ]
  },
  {
   "cell_type": "code",
   "execution_count": null,
   "metadata": {},
   "outputs": [],
   "source": [
    "df[df['SEM_PRI']==1].head(50)"
   ]
  },
  {
   "cell_type": "code",
   "execution_count": null,
   "metadata": {},
   "outputs": [],
   "source": []
  }
 ],
 "metadata": {
  "kernelspec": {
   "display_name": "Python 3",
   "language": "python",
   "name": "python3"
  },
  "language_info": {
   "codemirror_mode": {
    "name": "ipython",
    "version": 3
   },
   "file_extension": ".py",
   "mimetype": "text/x-python",
   "name": "python",
   "nbconvert_exporter": "python",
   "pygments_lexer": "ipython3",
   "version": "3.8.5"
  }
 },
 "nbformat": 4,
 "nbformat_minor": 4
}
