{
 "cells": [
  {
   "cell_type": "markdown",
   "metadata": {},
   "source": [
    "# ANÁLISE DO EFEITO DA VACINAÇÃO NO BRASIL E NO ESTADO DE SP\n",
    "\n"
   ]
  },
  {
   "cell_type": "markdown",
   "metadata": {},
   "source": [
    "## Fonte de Dados:\n",
    "### site: https://opendatasus.saude.gov.br/dataset/bd-srag-2021\n",
    "\n",
    "## Processo:\n",
    "\n",
    "<ol>\n",
    "    <li> Importar dataframe evidenciando idosos, óbitos e casos diagnosticados como COVID 19 </li>\n",
    "    <li> Traçar gráficos:</li>\n",
    "No Brasil: \n",
    "    <ul> \n",
    "        <li>notificações x semana (separados por covid), </li> \n",
    "        <li> covid x semana (separados por idosos),</li>\n",
    "        <li> óbitos de covid x semana (separados por idosos)</li>\n",
    "        <li> I dososx semana (separados por óbitos)</li> \n",
    "    </ul>\n",
    "        \n",
    "Em São Paulo:\n",
    "    <ul>\n",
    "        <li> notificações x semana (separados por covid), </li>\n",
    "        <li> covid x semana (separados por idosos),</li>\n",
    "        <li> óbitos de covid x semana (separados por idosos)</li>\n",
    "        <li> Idosos x semana (separados por óbitos)</li>\n",
    "    </ul>\n",
    "<li> Análise de proporção </li>\n",
    "<li> Análises antigas mantidas durante o processo (desconsiderar)</li>\n",
    "</ol>"
   ]
  },
  {
   "cell_type": "markdown",
   "metadata": {},
   "source": [
    "## Importar Dataframes e Bibliotecas"
   ]
  },
  {
   "cell_type": "code",
   "execution_count": 1,
   "metadata": {},
   "outputs": [],
   "source": [
    "#Importar bibliotecas\n",
    "import pandas as pn\n",
    "import seaborn as sns\n",
    "import matplotlib.pyplot as plt\n",
    "import numpy as np\n",
    "%matplotlib inline\n",
    "sns.set_theme(style=\"darkgrid\")"
   ]
  },
  {
   "cell_type": "code",
   "execution_count": 2,
   "metadata": {},
   "outputs": [],
   "source": [
    "#Definido como idoso pessoas acima de 'idade' para fins desse estudo\n",
    "idade = 90 #dia 9 de março começou a vacinação de pessoas com 77 anos\n",
    "estado = 'SP'\n",
    "#Mapa da vacinação\n",
    "#https://especiais.g1.globo.com/bemestar/vacina/2021/mapa-brasil-vacina-covid/"
   ]
  },
  {
   "cell_type": "code",
   "execution_count": 3,
   "metadata": {},
   "outputs": [],
   "source": [
    "#importa dataframe\n",
    "df = pn.read_csv('INFLUD21-29-03-2021.csv', sep=';', usecols=[0, 1, 4, 5,11, 12, 13,53, 107,110]) #53,76,\n",
    "df['IDOSO'] =  df['NU_IDADE_N'] >= idade\n",
    "df['OBITO'] = df['EVOLUCAO'] == 2\n",
    "df['COVID19'] = df['CLASSI_FIN'] == 5"
   ]
  },
  {
   "cell_type": "code",
   "execution_count": 4,
   "metadata": {},
   "outputs": [
    {
     "data": {
      "text/html": [
       "<div>\n",
       "<style scoped>\n",
       "    .dataframe tbody tr th:only-of-type {\n",
       "        vertical-align: middle;\n",
       "    }\n",
       "\n",
       "    .dataframe tbody tr th {\n",
       "        vertical-align: top;\n",
       "    }\n",
       "\n",
       "    .dataframe thead th {\n",
       "        text-align: right;\n",
       "    }\n",
       "</style>\n",
       "<table border=\"1\" class=\"dataframe\">\n",
       "  <thead>\n",
       "    <tr style=\"text-align: right;\">\n",
       "      <th></th>\n",
       "      <th>DT_NOTIFIC</th>\n",
       "      <th>SEM_NOT</th>\n",
       "      <th>SG_UF_NOT</th>\n",
       "      <th>ID_REGIONA</th>\n",
       "      <th>CS_SEXO</th>\n",
       "      <th>DT_NASC</th>\n",
       "      <th>NU_IDADE_N</th>\n",
       "      <th>OBESIDADE</th>\n",
       "      <th>CLASSI_FIN</th>\n",
       "      <th>EVOLUCAO</th>\n",
       "      <th>IDOSO</th>\n",
       "      <th>OBITO</th>\n",
       "      <th>COVID19</th>\n",
       "    </tr>\n",
       "  </thead>\n",
       "  <tbody>\n",
       "    <tr>\n",
       "      <th>421363</th>\n",
       "      <td>21/03/2021</td>\n",
       "      <td>12</td>\n",
       "      <td>RJ</td>\n",
       "      <td>NaN</td>\n",
       "      <td>F</td>\n",
       "      <td>03/02/1979</td>\n",
       "      <td>42</td>\n",
       "      <td>NaN</td>\n",
       "      <td>NaN</td>\n",
       "      <td>NaN</td>\n",
       "      <td>False</td>\n",
       "      <td>False</td>\n",
       "      <td>False</td>\n",
       "    </tr>\n",
       "    <tr>\n",
       "      <th>421364</th>\n",
       "      <td>13/03/2021</td>\n",
       "      <td>10</td>\n",
       "      <td>RJ</td>\n",
       "      <td>NaN</td>\n",
       "      <td>M</td>\n",
       "      <td>25/04/1980</td>\n",
       "      <td>40</td>\n",
       "      <td>NaN</td>\n",
       "      <td>5.0</td>\n",
       "      <td>9.0</td>\n",
       "      <td>False</td>\n",
       "      <td>False</td>\n",
       "      <td>True</td>\n",
       "    </tr>\n",
       "    <tr>\n",
       "      <th>421365</th>\n",
       "      <td>28/03/2021</td>\n",
       "      <td>13</td>\n",
       "      <td>SE</td>\n",
       "      <td>REGIONAL ESTANCIA</td>\n",
       "      <td>M</td>\n",
       "      <td>22/01/1948</td>\n",
       "      <td>73</td>\n",
       "      <td>NaN</td>\n",
       "      <td>NaN</td>\n",
       "      <td>NaN</td>\n",
       "      <td>False</td>\n",
       "      <td>False</td>\n",
       "      <td>False</td>\n",
       "    </tr>\n",
       "    <tr>\n",
       "      <th>421366</th>\n",
       "      <td>13/02/2021</td>\n",
       "      <td>6</td>\n",
       "      <td>PE</td>\n",
       "      <td>001</td>\n",
       "      <td>M</td>\n",
       "      <td>06/09/1936</td>\n",
       "      <td>84</td>\n",
       "      <td>2.0</td>\n",
       "      <td>NaN</td>\n",
       "      <td>NaN</td>\n",
       "      <td>False</td>\n",
       "      <td>False</td>\n",
       "      <td>False</td>\n",
       "    </tr>\n",
       "    <tr>\n",
       "      <th>421367</th>\n",
       "      <td>28/03/2021</td>\n",
       "      <td>13</td>\n",
       "      <td>SP</td>\n",
       "      <td>GVE XXIX SAO JOSE DO RIO PRETO</td>\n",
       "      <td>F</td>\n",
       "      <td>12/08/1964</td>\n",
       "      <td>56</td>\n",
       "      <td>NaN</td>\n",
       "      <td>NaN</td>\n",
       "      <td>NaN</td>\n",
       "      <td>False</td>\n",
       "      <td>False</td>\n",
       "      <td>False</td>\n",
       "    </tr>\n",
       "  </tbody>\n",
       "</table>\n",
       "</div>"
      ],
      "text/plain": [
       "        DT_NOTIFIC  SEM_NOT SG_UF_NOT                      ID_REGIONA CS_SEXO  \\\n",
       "421363  21/03/2021       12        RJ                             NaN       F   \n",
       "421364  13/03/2021       10        RJ                             NaN       M   \n",
       "421365  28/03/2021       13        SE               REGIONAL ESTANCIA       M   \n",
       "421366  13/02/2021        6        PE                             001       M   \n",
       "421367  28/03/2021       13        SP  GVE XXIX SAO JOSE DO RIO PRETO       F   \n",
       "\n",
       "           DT_NASC  NU_IDADE_N  OBESIDADE  CLASSI_FIN  EVOLUCAO  IDOSO  OBITO  \\\n",
       "421363  03/02/1979          42        NaN         NaN       NaN  False  False   \n",
       "421364  25/04/1980          40        NaN         5.0       9.0  False  False   \n",
       "421365  22/01/1948          73        NaN         NaN       NaN  False  False   \n",
       "421366  06/09/1936          84        2.0         NaN       NaN  False  False   \n",
       "421367  12/08/1964          56        NaN         NaN       NaN  False  False   \n",
       "\n",
       "        COVID19  \n",
       "421363    False  \n",
       "421364     True  \n",
       "421365    False  \n",
       "421366    False  \n",
       "421367    False  "
      ]
     },
     "execution_count": 4,
     "metadata": {},
     "output_type": "execute_result"
    }
   ],
   "source": [
    "#mostra cabeça do dataframe\n",
    "df.tail(5)"
   ]
  },
  {
   "cell_type": "code",
   "execution_count": 5,
   "metadata": {},
   "outputs": [
    {
     "data": {
      "text/plain": [
       "56.654145544986804"
      ]
     },
     "execution_count": 5,
     "metadata": {},
     "output_type": "execute_result"
    }
   ],
   "source": [
    "#Média das idades dos pacientes\n",
    "df['NU_IDADE_N'].mean()"
   ]
  },
  {
   "cell_type": "code",
   "execution_count": 6,
   "metadata": {},
   "outputs": [
    {
     "data": {
      "text/plain": [
       "DT_NOTIFIC    421368\n",
       "SEM_NOT       421368\n",
       "SG_UF_NOT     421368\n",
       "ID_REGIONA    384108\n",
       "CS_SEXO       421368\n",
       "DT_NASC       420997\n",
       "NU_IDADE_N    421368\n",
       "OBESIDADE     159129\n",
       "CLASSI_FIN    331727\n",
       "EVOLUCAO      254950\n",
       "IDOSO         421368\n",
       "OBITO         421368\n",
       "COVID19       421368\n",
       "dtype: int64"
      ]
     },
     "execution_count": 6,
     "metadata": {},
     "output_type": "execute_result"
    }
   ],
   "source": [
    "#Numero de registros (casos notificados)\n",
    "df.count()\n",
    "#df.nunique()"
   ]
  },
  {
   "cell_type": "code",
   "execution_count": 7,
   "metadata": {},
   "outputs": [
    {
     "name": "stdout",
     "output_type": "stream",
     "text": [
      "<class 'pandas.core.frame.DataFrame'>\n",
      "RangeIndex: 421368 entries, 0 to 421367\n",
      "Data columns (total 13 columns):\n",
      " #   Column      Non-Null Count   Dtype  \n",
      "---  ------      --------------   -----  \n",
      " 0   DT_NOTIFIC  421368 non-null  object \n",
      " 1   SEM_NOT     421368 non-null  int64  \n",
      " 2   SG_UF_NOT   421368 non-null  object \n",
      " 3   ID_REGIONA  384108 non-null  object \n",
      " 4   CS_SEXO     421368 non-null  object \n",
      " 5   DT_NASC     420997 non-null  object \n",
      " 6   NU_IDADE_N  421368 non-null  int64  \n",
      " 7   OBESIDADE   159129 non-null  float64\n",
      " 8   CLASSI_FIN  331727 non-null  float64\n",
      " 9   EVOLUCAO    254950 non-null  float64\n",
      " 10  IDOSO       421368 non-null  bool   \n",
      " 11  OBITO       421368 non-null  bool   \n",
      " 12  COVID19     421368 non-null  bool   \n",
      "dtypes: bool(3), float64(3), int64(2), object(5)\n",
      "memory usage: 33.4+ MB\n"
     ]
    }
   ],
   "source": [
    "#Verificar os tipos dos dados importados\n",
    "df.info()"
   ]
  },
  {
   "cell_type": "markdown",
   "metadata": {},
   "source": [
    "## Evidenciar COVID, OBITO E IDOSOS no data frame Brasil"
   ]
  },
  {
   "cell_type": "code",
   "execution_count": 8,
   "metadata": {},
   "outputs": [],
   "source": [
    "df_covidbr = df[df['COVID19']==True]\n",
    "df_ob_covidbr = df_covidbr[df_covidbr['OBITO']==True]\n",
    "df_idosos_covidbr = df_covidbr[df_covidbr['IDOSO']==True]"
   ]
  },
  {
   "cell_type": "code",
   "execution_count": null,
   "metadata": {},
   "outputs": [],
   "source": []
  },
  {
   "cell_type": "markdown",
   "metadata": {},
   "source": [
    "# GRÁFICOS BRASIL"
   ]
  },
  {
   "cell_type": "code",
   "execution_count": 9,
   "metadata": {},
   "outputs": [
    {
     "data": {
      "text/plain": [
       "<AxesSubplot:xlabel='SEM_NOT', ylabel='count'>"
      ]
     },
     "execution_count": 9,
     "metadata": {},
     "output_type": "execute_result"
    },
    {
     "data": {
      "image/png": "[encoded data removed]",
      "text/plain": [
       "<Figure size 432x288 with 1 Axes>"
      ]
     },
     "metadata": {},
     "output_type": "display_data"
    }
   ],
   "source": [
    "###        notificações x semana (separados por idosos), \n",
    "sns.countplot(data=df, x = 'SEM_NOT', hue = 'COVID19')"
   ]
  },
  {
   "cell_type": "code",
   "execution_count": 10,
   "metadata": {},
   "outputs": [
    {
     "data": {
      "text/plain": [
       "<AxesSubplot:xlabel='SEM_NOT', ylabel='count'>"
      ]
     },
     "execution_count": 10,
     "metadata": {},
     "output_type": "execute_result"
    },
    {
     "data": {
      "image/png": "[encoded data removed]",
      "text/plain": [
       "<Figure size 432x288 with 1 Axes>"
      ]
     },
     "metadata": {},
     "output_type": "display_data"
    }
   ],
   "source": [
    "###        covid x semana (separados por idosos),\n",
    "sns.countplot(data=df_covidbr, x = 'SEM_NOT', hue = 'IDOSO')"
   ]
  },
  {
   "cell_type": "code",
   "execution_count": 11,
   "metadata": {},
   "outputs": [
    {
     "data": {
      "text/plain": [
       "<AxesSubplot:xlabel='SEM_NOT', ylabel='count'>"
      ]
     },
     "execution_count": 11,
     "metadata": {},
     "output_type": "execute_result"
    },
    {
     "data": {
      "image/png": "[encoded data removed]",
      "text/plain": [
       "<Figure size 432x288 with 1 Axes>"
      ]
     },
     "metadata": {},
     "output_type": "display_data"
    }
   ],
   "source": [
    "###        óbitos de covid x semana (separados por idosos)\n",
    "sns.countplot(data=df_ob_covidbr, x = 'SEM_NOT')"
   ]
  },
  {
   "cell_type": "code",
   "execution_count": 12,
   "metadata": {},
   "outputs": [
    {
     "data": {
      "text/plain": [
       "<AxesSubplot:xlabel='SEM_NOT', ylabel='count'>"
      ]
     },
     "execution_count": 12,
     "metadata": {},
     "output_type": "execute_result"
    },
    {
     "data": {
      "image/png": "[encoded data removed]",
      "text/plain": [
       "<Figure size 432x288 with 1 Axes>"
      ]
     },
     "metadata": {},
     "output_type": "display_data"
    }
   ],
   "source": [
    "###        óbitos de covid x semana (separados por idosos)\n",
    "sns.countplot(data=df_ob_covidbr, x = 'SEM_NOT', hue = 'IDOSO')"
   ]
  },
  {
   "cell_type": "code",
   "execution_count": 13,
   "metadata": {},
   "outputs": [
    {
     "data": {
      "text/plain": [
       "<AxesSubplot:xlabel='SEM_NOT', ylabel='count'>"
      ]
     },
     "execution_count": 13,
     "metadata": {},
     "output_type": "execute_result"
    },
    {
     "data": {
      "image/png": "[encoded data removed]",
      "text/plain": [
       "<Figure size 432x288 with 1 Axes>"
      ]
     },
     "metadata": {},
     "output_type": "display_data"
    }
   ],
   "source": [
    "###        Idosos Notificados x semana \n",
    "sns.countplot(data=df_idosos_covidbr, x = 'SEM_NOT')"
   ]
  },
  {
   "cell_type": "code",
   "execution_count": 14,
   "metadata": {
    "scrolled": true
   },
   "outputs": [
    {
     "data": {
      "text/plain": [
       "<AxesSubplot:xlabel='SEM_NOT', ylabel='count'>"
      ]
     },
     "execution_count": 14,
     "metadata": {},
     "output_type": "execute_result"
    },
    {
     "data": {
      "image/png": "[encoded data removed]",
      "text/plain": [
       "<Figure size 432x288 with 1 Axes>"
      ]
     },
     "metadata": {},
     "output_type": "display_data"
    }
   ],
   "source": [
    "###        Idososx semana (separados por óbitos)\n",
    "sns.countplot(data=df_idosos_covidbr, x = 'SEM_NOT', hue = 'OBITO')"
   ]
  },
  {
   "cell_type": "markdown",
   "metadata": {},
   "source": [
    "## Separar Dataframe Estadual (por exemplo: São Paulo)"
   ]
  },
  {
   "cell_type": "code",
   "execution_count": 15,
   "metadata": {},
   "outputs": [],
   "source": [
    "### ESTADO DE SÃO PAULO\n",
    "df_sp = df[df['SG_UF_NOT']==estado]\n",
    "df_covidsp = df_covidbr[df_covidbr['SG_UF_NOT']==estado]\n",
    "df_ob_covidsp = df_covidbr[df_covidbr['SG_UF_NOT']==estado]\n",
    "df_idosos_covidsp = df_covidbr[df_covidbr['SG_UF_NOT']==estado]"
   ]
  },
  {
   "cell_type": "code",
   "execution_count": 16,
   "metadata": {},
   "outputs": [
    {
     "data": {
      "text/plain": [
       "DT_NOTIFIC    126689\n",
       "SEM_NOT       126689\n",
       "SG_UF_NOT     126689\n",
       "ID_REGIONA    126689\n",
       "CS_SEXO       126689\n",
       "DT_NASC       126517\n",
       "NU_IDADE_N    126689\n",
       "OBESIDADE      47534\n",
       "CLASSI_FIN    101551\n",
       "EVOLUCAO       76134\n",
       "IDOSO         126689\n",
       "OBITO         126689\n",
       "COVID19       126689\n",
       "dtype: int64"
      ]
     },
     "execution_count": 16,
     "metadata": {},
     "output_type": "execute_result"
    }
   ],
   "source": [
    "df_sp.count()"
   ]
  },
  {
   "cell_type": "code",
   "execution_count": 17,
   "metadata": {},
   "outputs": [
    {
     "data": {
      "text/plain": [
       "<AxesSubplot:xlabel='SEM_NOT', ylabel='count'>"
      ]
     },
     "execution_count": 17,
     "metadata": {},
     "output_type": "execute_result"
    },
    {
     "data": {
      "image/png": "[encoded data removed]",
      "text/plain": [
       "<Figure size 432x288 with 1 Axes>"
      ]
     },
     "metadata": {},
     "output_type": "display_data"
    }
   ],
   "source": [
    "###        notificações x semana (separados por idosos), \n",
    "sns.countplot(data=df_sp, x = 'SEM_NOT', hue = 'COVID19')"
   ]
  },
  {
   "cell_type": "code",
   "execution_count": 18,
   "metadata": {},
   "outputs": [
    {
     "data": {
      "text/plain": [
       "<AxesSubplot:xlabel='SEM_NOT', ylabel='count'>"
      ]
     },
     "execution_count": 18,
     "metadata": {},
     "output_type": "execute_result"
    },
    {
     "data": {
      "image/png": "[encoded data removed]",
      "text/plain": [
       "<Figure size 432x288 with 1 Axes>"
      ]
     },
     "metadata": {},
     "output_type": "display_data"
    }
   ],
   "source": [
    "###        covid x semana (separados por idosos),\n",
    "sns.countplot(data=df_covidsp, x = 'SEM_NOT', hue = 'IDOSO')"
   ]
  },
  {
   "cell_type": "code",
   "execution_count": 19,
   "metadata": {
    "scrolled": true
   },
   "outputs": [
    {
     "data": {
      "text/plain": [
       "<AxesSubplot:xlabel='SEM_NOT', ylabel='count'>"
      ]
     },
     "execution_count": 19,
     "metadata": {},
     "output_type": "execute_result"
    },
    {
     "data": {
      "image/png": "[encoded data removed]",
      "text/plain": [
       "<Figure size 432x288 with 1 Axes>"
      ]
     },
     "metadata": {},
     "output_type": "display_data"
    }
   ],
   "source": [
    "###        Idosos x semana (separados por óbitos)\n",
    "sns.countplot(data=df_idosos_covidsp, x = 'SEM_NOT', hue = 'OBITO')"
   ]
  },
  {
   "cell_type": "code",
   "execution_count": 20,
   "metadata": {},
   "outputs": [
    {
     "data": {
      "text/plain": [
       "<AxesSubplot:xlabel='SEM_NOT', ylabel='count'>"
      ]
     },
     "execution_count": 20,
     "metadata": {},
     "output_type": "execute_result"
    },
    {
     "data": {
      "image/png": "[encoded data removed]",
      "text/plain": [
       "<Figure size 432x288 with 1 Axes>"
      ]
     },
     "metadata": {},
     "output_type": "display_data"
    }
   ],
   "source": [
    "###        Óbitos x semana (separados por idosos)\n",
    "sns.countplot(data=df_idosos_covidsp, x = 'SEM_NOT', hue = 'IDOSO')"
   ]
  },
  {
   "cell_type": "markdown",
   "metadata": {},
   "source": [
    "# Outras análises ( a fazer )\n"
   ]
  },
  {
   "cell_type": "code",
   "execution_count": null,
   "metadata": {},
   "outputs": [],
   "source": []
  },
  {
   "cell_type": "code",
   "execution_count": null,
   "metadata": {},
   "outputs": [],
   "source": []
  },
  {
   "cell_type": "code",
   "execution_count": null,
   "metadata": {},
   "outputs": [],
   "source": []
  },
  {
   "cell_type": "code",
   "execution_count": null,
   "metadata": {},
   "outputs": [],
   "source": []
  },
  {
   "cell_type": "markdown",
   "metadata": {},
   "source": [
    "# Análises antigas mantidas durante o processo (desconsiderar)"
   ]
  },
  {
   "cell_type": "code",
   "execution_count": 21,
   "metadata": {},
   "outputs": [
    {
     "data": {
      "text/plain": [
       "<AxesSubplot:xlabel='SEM_NOT', ylabel='count'>"
      ]
     },
     "execution_count": 21,
     "metadata": {},
     "output_type": "execute_result"
    },
    {
     "data": {
      "image/png": "[encoded data removed]",
      "text/plain": [
       "<Figure size 432x288 with 1 Axes>"
      ]
     },
     "metadata": {},
     "output_type": "display_data"
    }
   ],
   "source": [
    "#Gráfico de casos de doenças respiratórias por semana de notificação\n",
    "#todas as doenças\n",
    "#todos os estados\n",
    "#df['SEM_NOT'].value_counts(sort = False).plot.bar()\n",
    "sns.countplot(data=df, x = 'SEM_NOT', hue = 'IDOSO')"
   ]
  },
  {
   "cell_type": "code",
   "execution_count": 22,
   "metadata": {},
   "outputs": [
    {
     "data": {
      "text/plain": [
       "5.0    264757\n",
       "4.0     63757\n",
       "2.0      2110\n",
       "3.0       738\n",
       "1.0       365\n",
       "Name: CLASSI_FIN, dtype: int64"
      ]
     },
     "execution_count": 22,
     "metadata": {},
     "output_type": "execute_result"
    }
   ],
   "source": [
    "# Casos diagnosticados como COVID 19 (=5)\n",
    "# CLASS_FINAL\n",
    "# 1-SRAG por i nfluenza\n",
    "# 2-SRAG por outro vírus re s piratório\n",
    "# 3-SRAGpor   outro   a gente e ti ológico, qual:\n",
    "# 4-SRAG nã o e specificado\n",
    "# 5-SRAG por COVI D-19 <-----\n",
    "df['CLASSI_FIN'].value_counts()"
   ]
  },
  {
   "cell_type": "code",
   "execution_count": 23,
   "metadata": {},
   "outputs": [],
   "source": [
    "#Subset Covid\n",
    "df_c19 = df[df['CLASSI_FIN']==5]"
   ]
  },
  {
   "cell_type": "code",
   "execution_count": 24,
   "metadata": {
    "scrolled": false
   },
   "outputs": [
    {
     "data": {
      "text/plain": [
       "<AxesSubplot:xlabel='SEM_NOT', ylabel='count'>"
      ]
     },
     "execution_count": 24,
     "metadata": {},
     "output_type": "execute_result"
    },
    {
     "data": {
      "image/png": "[encoded data removed]",
      "text/plain": [
       "<Figure size 432x288 with 1 Axes>"
      ]
     },
     "metadata": {},
     "output_type": "display_data"
    }
   ],
   "source": [
    "#Gráfico de casos de COVID 19 por semana de notificação\n",
    "# É possível verificar o aumento no mês de março\n",
    "#df_c19['SEM_NOT'].value_counts(sort = False).plot.bar()\n",
    "#Apenas Covid19\n",
    "#Todos os estados\n",
    "sns.countplot(data=df_c19, x = 'SEM_NOT', hue = 'IDOSO')"
   ]
  },
  {
   "cell_type": "code",
   "execution_count": 25,
   "metadata": {
    "scrolled": true
   },
   "outputs": [
    {
     "data": {
      "text/plain": [
       "<AxesSubplot:xlabel='SEM_NOT', ylabel='count'>"
      ]
     },
     "execution_count": 25,
     "metadata": {},
     "output_type": "execute_result"
    },
    {
     "data": {
      "image/png": "[encoded data removed]",
      "text/plain": [
       "<Figure size 432x288 with 1 Axes>"
      ]
     },
     "metadata": {},
     "output_type": "display_data"
    }
   ],
   "source": [
    "#Gráfico de casos de COVID 19 por semana de notificação\n",
    "# É possível verificar o aumento no mês de março\n",
    "#df_c19['SEM_NOT'].value_counts(sort = False).plot.bar()\n",
    "#Apenas Covid19\n",
    "#Todos os estados\n",
    "sns.countplot(data=df_c19, x = 'SEM_NOT', hue = 'OBITO')"
   ]
  },
  {
   "cell_type": "code",
   "execution_count": 26,
   "metadata": {},
   "outputs": [
    {
     "data": {
      "text/plain": [
       "<AxesSubplot:xlabel='SEM_NOT', ylabel='count'>"
      ]
     },
     "execution_count": 26,
     "metadata": {},
     "output_type": "execute_result"
    },
    {
     "data": {
      "image/png": "[encoded data removed]",
      "text/plain": [
       "<Figure size 432x288 with 1 Axes>"
      ]
     },
     "metadata": {},
     "output_type": "display_data"
    }
   ],
   "source": [
    "#Gráfico de casos de COVID 19 por semana de notificação\n",
    "# É possível verificar o aumento no mês de março\n",
    "#df_c19['SEM_NOT'].value_counts(sort = False).plot.bar()\n",
    "#Apenas Covid19\n",
    "#Apenas Idosos\n",
    "#Todos os estados\n",
    "sns.countplot(data=df_c19[df_c19['IDOSO']==True], x = 'SEM_NOT', hue = 'OBITO')"
   ]
  },
  {
   "cell_type": "code",
   "execution_count": 27,
   "metadata": {},
   "outputs": [
    {
     "data": {
      "text/plain": [
       "1.0    109123\n",
       "2.0     79029\n",
       "9.0      8132\n",
       "3.0       459\n",
       "Name: EVOLUCAO, dtype: int64"
      ]
     },
     "execution_count": 27,
     "metadata": {},
     "output_type": "execute_result"
    }
   ],
   "source": [
    "# Evolução dos casos de Covid 19\n",
    "# 1 - Cura\n",
    "# 2 - Óbito\n",
    "# 3 - Óbito por outras causas\n",
    "# 9 - Ignorado\n",
    "#\n",
    "\n",
    "df_c19['EVOLUCAO'].value_counts()"
   ]
  },
  {
   "cell_type": "code",
   "execution_count": 28,
   "metadata": {
    "scrolled": true
   },
   "outputs": [
    {
     "data": {
      "text/html": [
       "<div>\n",
       "<style scoped>\n",
       "    .dataframe tbody tr th:only-of-type {\n",
       "        vertical-align: middle;\n",
       "    }\n",
       "\n",
       "    .dataframe tbody tr th {\n",
       "        vertical-align: top;\n",
       "    }\n",
       "\n",
       "    .dataframe thead th {\n",
       "        text-align: right;\n",
       "    }\n",
       "</style>\n",
       "<table border=\"1\" class=\"dataframe\">\n",
       "  <thead>\n",
       "    <tr style=\"text-align: right;\">\n",
       "      <th></th>\n",
       "      <th>DT_NOTIFIC</th>\n",
       "      <th>SEM_NOT</th>\n",
       "      <th>SG_UF_NOT</th>\n",
       "      <th>ID_REGIONA</th>\n",
       "      <th>CS_SEXO</th>\n",
       "      <th>DT_NASC</th>\n",
       "      <th>NU_IDADE_N</th>\n",
       "      <th>OBESIDADE</th>\n",
       "      <th>CLASSI_FIN</th>\n",
       "      <th>EVOLUCAO</th>\n",
       "      <th>IDOSO</th>\n",
       "      <th>OBITO</th>\n",
       "      <th>COVID19</th>\n",
       "    </tr>\n",
       "  </thead>\n",
       "  <tbody>\n",
       "    <tr>\n",
       "      <th>5</th>\n",
       "      <td>11/01/2021</td>\n",
       "      <td>2</td>\n",
       "      <td>SP</td>\n",
       "      <td>GVE VIII MOGI DAS CRUZES</td>\n",
       "      <td>M</td>\n",
       "      <td>07/03/1948</td>\n",
       "      <td>72</td>\n",
       "      <td>2.0</td>\n",
       "      <td>5.0</td>\n",
       "      <td>2.0</td>\n",
       "      <td>False</td>\n",
       "      <td>True</td>\n",
       "      <td>True</td>\n",
       "    </tr>\n",
       "    <tr>\n",
       "      <th>14</th>\n",
       "      <td>05/01/2021</td>\n",
       "      <td>1</td>\n",
       "      <td>RJ</td>\n",
       "      <td>NaN</td>\n",
       "      <td>F</td>\n",
       "      <td>24/09/1969</td>\n",
       "      <td>51</td>\n",
       "      <td>NaN</td>\n",
       "      <td>5.0</td>\n",
       "      <td>2.0</td>\n",
       "      <td>False</td>\n",
       "      <td>True</td>\n",
       "      <td>True</td>\n",
       "    </tr>\n",
       "    <tr>\n",
       "      <th>25</th>\n",
       "      <td>11/01/2021</td>\n",
       "      <td>2</td>\n",
       "      <td>SP</td>\n",
       "      <td>GVE XVII CAMPINAS</td>\n",
       "      <td>F</td>\n",
       "      <td>20/01/1931</td>\n",
       "      <td>89</td>\n",
       "      <td>2.0</td>\n",
       "      <td>5.0</td>\n",
       "      <td>2.0</td>\n",
       "      <td>False</td>\n",
       "      <td>True</td>\n",
       "      <td>True</td>\n",
       "    </tr>\n",
       "    <tr>\n",
       "      <th>39</th>\n",
       "      <td>05/01/2021</td>\n",
       "      <td>1</td>\n",
       "      <td>SP</td>\n",
       "      <td>GVE I CAPITAL</td>\n",
       "      <td>M</td>\n",
       "      <td>19/01/1952</td>\n",
       "      <td>68</td>\n",
       "      <td>2.0</td>\n",
       "      <td>5.0</td>\n",
       "      <td>2.0</td>\n",
       "      <td>False</td>\n",
       "      <td>True</td>\n",
       "      <td>True</td>\n",
       "    </tr>\n",
       "    <tr>\n",
       "      <th>50</th>\n",
       "      <td>11/01/2021</td>\n",
       "      <td>2</td>\n",
       "      <td>SC</td>\n",
       "      <td>JOINVILLE</td>\n",
       "      <td>M</td>\n",
       "      <td>11/03/1932</td>\n",
       "      <td>88</td>\n",
       "      <td>NaN</td>\n",
       "      <td>5.0</td>\n",
       "      <td>2.0</td>\n",
       "      <td>False</td>\n",
       "      <td>True</td>\n",
       "      <td>True</td>\n",
       "    </tr>\n",
       "    <tr>\n",
       "      <th>57</th>\n",
       "      <td>08/01/2021</td>\n",
       "      <td>1</td>\n",
       "      <td>SP</td>\n",
       "      <td>GVE I CAPITAL</td>\n",
       "      <td>F</td>\n",
       "      <td>15/06/1954</td>\n",
       "      <td>66</td>\n",
       "      <td>NaN</td>\n",
       "      <td>5.0</td>\n",
       "      <td>2.0</td>\n",
       "      <td>False</td>\n",
       "      <td>True</td>\n",
       "      <td>True</td>\n",
       "    </tr>\n",
       "    <tr>\n",
       "      <th>64</th>\n",
       "      <td>05/01/2021</td>\n",
       "      <td>1</td>\n",
       "      <td>MG</td>\n",
       "      <td>UBERLANDIA</td>\n",
       "      <td>F</td>\n",
       "      <td>23/09/1971</td>\n",
       "      <td>49</td>\n",
       "      <td>2.0</td>\n",
       "      <td>5.0</td>\n",
       "      <td>2.0</td>\n",
       "      <td>False</td>\n",
       "      <td>True</td>\n",
       "      <td>True</td>\n",
       "    </tr>\n",
       "    <tr>\n",
       "      <th>68</th>\n",
       "      <td>09/01/2021</td>\n",
       "      <td>1</td>\n",
       "      <td>RS</td>\n",
       "      <td>006 CRS</td>\n",
       "      <td>M</td>\n",
       "      <td>21/07/1934</td>\n",
       "      <td>86</td>\n",
       "      <td>2.0</td>\n",
       "      <td>5.0</td>\n",
       "      <td>2.0</td>\n",
       "      <td>False</td>\n",
       "      <td>True</td>\n",
       "      <td>True</td>\n",
       "    </tr>\n",
       "    <tr>\n",
       "      <th>69</th>\n",
       "      <td>10/01/2021</td>\n",
       "      <td>2</td>\n",
       "      <td>SP</td>\n",
       "      <td>GVE I CAPITAL</td>\n",
       "      <td>F</td>\n",
       "      <td>26/07/1926</td>\n",
       "      <td>94</td>\n",
       "      <td>NaN</td>\n",
       "      <td>5.0</td>\n",
       "      <td>2.0</td>\n",
       "      <td>True</td>\n",
       "      <td>True</td>\n",
       "      <td>True</td>\n",
       "    </tr>\n",
       "    <tr>\n",
       "      <th>81</th>\n",
       "      <td>07/01/2021</td>\n",
       "      <td>1</td>\n",
       "      <td>SP</td>\n",
       "      <td>GVE XV BAURU</td>\n",
       "      <td>F</td>\n",
       "      <td>28/05/1952</td>\n",
       "      <td>68</td>\n",
       "      <td>NaN</td>\n",
       "      <td>5.0</td>\n",
       "      <td>2.0</td>\n",
       "      <td>False</td>\n",
       "      <td>True</td>\n",
       "      <td>True</td>\n",
       "    </tr>\n",
       "    <tr>\n",
       "      <th>86</th>\n",
       "      <td>08/01/2021</td>\n",
       "      <td>1</td>\n",
       "      <td>GO</td>\n",
       "      <td>CENTRAL</td>\n",
       "      <td>F</td>\n",
       "      <td>26/11/1938</td>\n",
       "      <td>82</td>\n",
       "      <td>2.0</td>\n",
       "      <td>5.0</td>\n",
       "      <td>2.0</td>\n",
       "      <td>False</td>\n",
       "      <td>True</td>\n",
       "      <td>True</td>\n",
       "    </tr>\n",
       "    <tr>\n",
       "      <th>88</th>\n",
       "      <td>05/01/2021</td>\n",
       "      <td>1</td>\n",
       "      <td>RS</td>\n",
       "      <td>018 CRS</td>\n",
       "      <td>M</td>\n",
       "      <td>10/07/1955</td>\n",
       "      <td>65</td>\n",
       "      <td>2.0</td>\n",
       "      <td>5.0</td>\n",
       "      <td>2.0</td>\n",
       "      <td>False</td>\n",
       "      <td>True</td>\n",
       "      <td>True</td>\n",
       "    </tr>\n",
       "    <tr>\n",
       "      <th>89</th>\n",
       "      <td>05/01/2021</td>\n",
       "      <td>1</td>\n",
       "      <td>SP</td>\n",
       "      <td>GVE I CAPITAL</td>\n",
       "      <td>F</td>\n",
       "      <td>03/07/1982</td>\n",
       "      <td>38</td>\n",
       "      <td>NaN</td>\n",
       "      <td>5.0</td>\n",
       "      <td>2.0</td>\n",
       "      <td>False</td>\n",
       "      <td>True</td>\n",
       "      <td>True</td>\n",
       "    </tr>\n",
       "    <tr>\n",
       "      <th>93</th>\n",
       "      <td>08/01/2021</td>\n",
       "      <td>1</td>\n",
       "      <td>AL</td>\n",
       "      <td>1 MICRORREGIAO DE SAUDE</td>\n",
       "      <td>M</td>\n",
       "      <td>10/07/1969</td>\n",
       "      <td>51</td>\n",
       "      <td>NaN</td>\n",
       "      <td>5.0</td>\n",
       "      <td>2.0</td>\n",
       "      <td>False</td>\n",
       "      <td>True</td>\n",
       "      <td>True</td>\n",
       "    </tr>\n",
       "    <tr>\n",
       "      <th>105</th>\n",
       "      <td>14/01/2021</td>\n",
       "      <td>2</td>\n",
       "      <td>SP</td>\n",
       "      <td>GVE XXVII SAO JOSE DOS CAMPOS</td>\n",
       "      <td>M</td>\n",
       "      <td>16/11/1963</td>\n",
       "      <td>57</td>\n",
       "      <td>2.0</td>\n",
       "      <td>5.0</td>\n",
       "      <td>2.0</td>\n",
       "      <td>False</td>\n",
       "      <td>True</td>\n",
       "      <td>True</td>\n",
       "    </tr>\n",
       "    <tr>\n",
       "      <th>107</th>\n",
       "      <td>14/01/2021</td>\n",
       "      <td>2</td>\n",
       "      <td>DF</td>\n",
       "      <td>NaN</td>\n",
       "      <td>M</td>\n",
       "      <td>03/05/1938</td>\n",
       "      <td>82</td>\n",
       "      <td>NaN</td>\n",
       "      <td>5.0</td>\n",
       "      <td>2.0</td>\n",
       "      <td>False</td>\n",
       "      <td>True</td>\n",
       "      <td>True</td>\n",
       "    </tr>\n",
       "    <tr>\n",
       "      <th>112</th>\n",
       "      <td>13/01/2021</td>\n",
       "      <td>2</td>\n",
       "      <td>SP</td>\n",
       "      <td>GVE I CAPITAL</td>\n",
       "      <td>M</td>\n",
       "      <td>25/10/1939</td>\n",
       "      <td>81</td>\n",
       "      <td>2.0</td>\n",
       "      <td>5.0</td>\n",
       "      <td>2.0</td>\n",
       "      <td>False</td>\n",
       "      <td>True</td>\n",
       "      <td>True</td>\n",
       "    </tr>\n",
       "    <tr>\n",
       "      <th>122</th>\n",
       "      <td>12/01/2021</td>\n",
       "      <td>2</td>\n",
       "      <td>SC</td>\n",
       "      <td>ARARANGUA</td>\n",
       "      <td>M</td>\n",
       "      <td>13/03/1954</td>\n",
       "      <td>66</td>\n",
       "      <td>2.0</td>\n",
       "      <td>5.0</td>\n",
       "      <td>2.0</td>\n",
       "      <td>False</td>\n",
       "      <td>True</td>\n",
       "      <td>True</td>\n",
       "    </tr>\n",
       "    <tr>\n",
       "      <th>123</th>\n",
       "      <td>14/01/2021</td>\n",
       "      <td>2</td>\n",
       "      <td>SP</td>\n",
       "      <td>GVE I CAPITAL</td>\n",
       "      <td>M</td>\n",
       "      <td>11/11/1933</td>\n",
       "      <td>87</td>\n",
       "      <td>NaN</td>\n",
       "      <td>5.0</td>\n",
       "      <td>2.0</td>\n",
       "      <td>False</td>\n",
       "      <td>True</td>\n",
       "      <td>True</td>\n",
       "    </tr>\n",
       "    <tr>\n",
       "      <th>132</th>\n",
       "      <td>13/01/2021</td>\n",
       "      <td>2</td>\n",
       "      <td>AM</td>\n",
       "      <td>ENTORNO DE MANAUS E RIO NEGRO</td>\n",
       "      <td>M</td>\n",
       "      <td>30/12/1959</td>\n",
       "      <td>61</td>\n",
       "      <td>NaN</td>\n",
       "      <td>5.0</td>\n",
       "      <td>2.0</td>\n",
       "      <td>False</td>\n",
       "      <td>True</td>\n",
       "      <td>True</td>\n",
       "    </tr>\n",
       "  </tbody>\n",
       "</table>\n",
       "</div>"
      ],
      "text/plain": [
       "     DT_NOTIFIC  SEM_NOT SG_UF_NOT                     ID_REGIONA CS_SEXO  \\\n",
       "5    11/01/2021        2        SP       GVE VIII MOGI DAS CRUZES       M   \n",
       "14   05/01/2021        1        RJ                            NaN       F   \n",
       "25   11/01/2021        2        SP              GVE XVII CAMPINAS       F   \n",
       "39   05/01/2021        1        SP                  GVE I CAPITAL       M   \n",
       "50   11/01/2021        2        SC                      JOINVILLE       M   \n",
       "57   08/01/2021        1        SP                  GVE I CAPITAL       F   \n",
       "64   05/01/2021        1        MG                     UBERLANDIA       F   \n",
       "68   09/01/2021        1        RS                        006 CRS       M   \n",
       "69   10/01/2021        2        SP                  GVE I CAPITAL       F   \n",
       "81   07/01/2021        1        SP                   GVE XV BAURU       F   \n",
       "86   08/01/2021        1        GO                        CENTRAL       F   \n",
       "88   05/01/2021        1        RS                        018 CRS       M   \n",
       "89   05/01/2021        1        SP                  GVE I CAPITAL       F   \n",
       "93   08/01/2021        1        AL        1 MICRORREGIAO DE SAUDE       M   \n",
       "105  14/01/2021        2        SP  GVE XXVII SAO JOSE DOS CAMPOS       M   \n",
       "107  14/01/2021        2        DF                            NaN       M   \n",
       "112  13/01/2021        2        SP                  GVE I CAPITAL       M   \n",
       "122  12/01/2021        2        SC                      ARARANGUA       M   \n",
       "123  14/01/2021        2        SP                  GVE I CAPITAL       M   \n",
       "132  13/01/2021        2        AM  ENTORNO DE MANAUS E RIO NEGRO       M   \n",
       "\n",
       "        DT_NASC  NU_IDADE_N  OBESIDADE  CLASSI_FIN  EVOLUCAO  IDOSO  OBITO  \\\n",
       "5    07/03/1948          72        2.0         5.0       2.0  False   True   \n",
       "14   24/09/1969          51        NaN         5.0       2.0  False   True   \n",
       "25   20/01/1931          89        2.0         5.0       2.0  False   True   \n",
       "39   19/01/1952          68        2.0         5.0       2.0  False   True   \n",
       "50   11/03/1932          88        NaN         5.0       2.0  False   True   \n",
       "57   15/06/1954          66        NaN         5.0       2.0  False   True   \n",
       "64   23/09/1971          49        2.0         5.0       2.0  False   True   \n",
       "68   21/07/1934          86        2.0         5.0       2.0  False   True   \n",
       "69   26/07/1926          94        NaN         5.0       2.0   True   True   \n",
       "81   28/05/1952          68        NaN         5.0       2.0  False   True   \n",
       "86   26/11/1938          82        2.0         5.0       2.0  False   True   \n",
       "88   10/07/1955          65        2.0         5.0       2.0  False   True   \n",
       "89   03/07/1982          38        NaN         5.0       2.0  False   True   \n",
       "93   10/07/1969          51        NaN         5.0       2.0  False   True   \n",
       "105  16/11/1963          57        2.0         5.0       2.0  False   True   \n",
       "107  03/05/1938          82        NaN         5.0       2.0  False   True   \n",
       "112  25/10/1939          81        2.0         5.0       2.0  False   True   \n",
       "122  13/03/1954          66        2.0         5.0       2.0  False   True   \n",
       "123  11/11/1933          87        NaN         5.0       2.0  False   True   \n",
       "132  30/12/1959          61        NaN         5.0       2.0  False   True   \n",
       "\n",
       "     COVID19  \n",
       "5       True  \n",
       "14      True  \n",
       "25      True  \n",
       "39      True  \n",
       "50      True  \n",
       "57      True  \n",
       "64      True  \n",
       "68      True  \n",
       "69      True  \n",
       "81      True  \n",
       "86      True  \n",
       "88      True  \n",
       "89      True  \n",
       "93      True  \n",
       "105     True  \n",
       "107     True  \n",
       "112     True  \n",
       "122     True  \n",
       "123     True  \n",
       "132     True  "
      ]
     },
     "execution_count": 28,
     "metadata": {},
     "output_type": "execute_result"
    }
   ],
   "source": [
    "#Sub Dataframe apenas com óbitos por covid 19\n",
    "df_ob = df_c19[df_c19['EVOLUCAO']==2]\n",
    "df_ob.head(20)"
   ]
  },
  {
   "cell_type": "code",
   "execution_count": 29,
   "metadata": {},
   "outputs": [
    {
     "data": {
      "text/plain": [
       "<AxesSubplot:xlabel='SEM_NOT', ylabel='count'>"
      ]
     },
     "execution_count": 29,
     "metadata": {},
     "output_type": "execute_result"
    },
    {
     "data": {
      "image/png": "[encoded data removed]",
      "text/plain": [
       "<Figure size 432x288 with 1 Axes>"
      ]
     },
     "metadata": {},
     "output_type": "display_data"
    }
   ],
   "source": [
    "#Gráfico de casos de óbitos por COVID19 por semana de notificação\n",
    "#df_ob['SEM_NOT'].value_counts(sort = False).plot.bar()\n",
    "#Apenas Covid19\n",
    "#Todos os estados\n",
    "#Apenas os óbitos\n",
    "sns.countplot(data=df_ob, x = 'SEM_NOT', hue = 'IDOSO')"
   ]
  },
  {
   "cell_type": "code",
   "execution_count": 30,
   "metadata": {},
   "outputs": [
    {
     "data": {
      "text/html": [
       "<div>\n",
       "<style scoped>\n",
       "    .dataframe tbody tr th:only-of-type {\n",
       "        vertical-align: middle;\n",
       "    }\n",
       "\n",
       "    .dataframe tbody tr th {\n",
       "        vertical-align: top;\n",
       "    }\n",
       "\n",
       "    .dataframe thead th {\n",
       "        text-align: right;\n",
       "    }\n",
       "</style>\n",
       "<table border=\"1\" class=\"dataframe\">\n",
       "  <thead>\n",
       "    <tr style=\"text-align: right;\">\n",
       "      <th></th>\n",
       "      <th>SEM_NOT</th>\n",
       "      <th>NU_IDADE_N</th>\n",
       "      <th>OBESIDADE</th>\n",
       "      <th>CLASSI_FIN</th>\n",
       "      <th>EVOLUCAO</th>\n",
       "    </tr>\n",
       "  </thead>\n",
       "  <tbody>\n",
       "    <tr>\n",
       "      <th>count</th>\n",
       "      <td>79029.000000</td>\n",
       "      <td>79029.000000</td>\n",
       "      <td>38324.000000</td>\n",
       "      <td>79029.0</td>\n",
       "      <td>79029.0</td>\n",
       "    </tr>\n",
       "    <tr>\n",
       "      <th>mean</th>\n",
       "      <td>7.368384</td>\n",
       "      <td>67.368434</td>\n",
       "      <td>1.955772</td>\n",
       "      <td>5.0</td>\n",
       "      <td>2.0</td>\n",
       "    </tr>\n",
       "    <tr>\n",
       "      <th>std</th>\n",
       "      <td>3.050171</td>\n",
       "      <td>15.588855</td>\n",
       "      <td>1.179415</td>\n",
       "      <td>0.0</td>\n",
       "      <td>0.0</td>\n",
       "    </tr>\n",
       "    <tr>\n",
       "      <th>min</th>\n",
       "      <td>1.000000</td>\n",
       "      <td>0.000000</td>\n",
       "      <td>1.000000</td>\n",
       "      <td>5.0</td>\n",
       "      <td>2.0</td>\n",
       "    </tr>\n",
       "    <tr>\n",
       "      <th>25%</th>\n",
       "      <td>5.000000</td>\n",
       "      <td>58.000000</td>\n",
       "      <td>2.000000</td>\n",
       "      <td>5.0</td>\n",
       "      <td>2.0</td>\n",
       "    </tr>\n",
       "    <tr>\n",
       "      <th>50%</th>\n",
       "      <td>8.000000</td>\n",
       "      <td>69.000000</td>\n",
       "      <td>2.000000</td>\n",
       "      <td>5.0</td>\n",
       "      <td>2.0</td>\n",
       "    </tr>\n",
       "    <tr>\n",
       "      <th>75%</th>\n",
       "      <td>10.000000</td>\n",
       "      <td>79.000000</td>\n",
       "      <td>2.000000</td>\n",
       "      <td>5.0</td>\n",
       "      <td>2.0</td>\n",
       "    </tr>\n",
       "    <tr>\n",
       "      <th>max</th>\n",
       "      <td>13.000000</td>\n",
       "      <td>128.000000</td>\n",
       "      <td>9.000000</td>\n",
       "      <td>5.0</td>\n",
       "      <td>2.0</td>\n",
       "    </tr>\n",
       "  </tbody>\n",
       "</table>\n",
       "</div>"
      ],
      "text/plain": [
       "            SEM_NOT    NU_IDADE_N     OBESIDADE  CLASSI_FIN  EVOLUCAO\n",
       "count  79029.000000  79029.000000  38324.000000     79029.0   79029.0\n",
       "mean       7.368384     67.368434      1.955772         5.0       2.0\n",
       "std        3.050171     15.588855      1.179415         0.0       0.0\n",
       "min        1.000000      0.000000      1.000000         5.0       2.0\n",
       "25%        5.000000     58.000000      2.000000         5.0       2.0\n",
       "50%        8.000000     69.000000      2.000000         5.0       2.0\n",
       "75%       10.000000     79.000000      2.000000         5.0       2.0\n",
       "max       13.000000    128.000000      9.000000         5.0       2.0"
      ]
     },
     "execution_count": 30,
     "metadata": {},
     "output_type": "execute_result"
    }
   ],
   "source": [
    "#informações numéricas sobre óbitos por Covid-19\n",
    "df_ob.describe()"
   ]
  },
  {
   "cell_type": "code",
   "execution_count": 31,
   "metadata": {},
   "outputs": [
    {
     "data": {
      "text/html": [
       "<div>\n",
       "<style scoped>\n",
       "    .dataframe tbody tr th:only-of-type {\n",
       "        vertical-align: middle;\n",
       "    }\n",
       "\n",
       "    .dataframe tbody tr th {\n",
       "        vertical-align: top;\n",
       "    }\n",
       "\n",
       "    .dataframe thead th {\n",
       "        text-align: right;\n",
       "    }\n",
       "</style>\n",
       "<table border=\"1\" class=\"dataframe\">\n",
       "  <thead>\n",
       "    <tr style=\"text-align: right;\">\n",
       "      <th></th>\n",
       "      <th>SEM_NOT</th>\n",
       "      <th>NU_IDADE_N</th>\n",
       "      <th>OBESIDADE</th>\n",
       "      <th>CLASSI_FIN</th>\n",
       "      <th>EVOLUCAO</th>\n",
       "    </tr>\n",
       "  </thead>\n",
       "  <tbody>\n",
       "    <tr>\n",
       "      <th>count</th>\n",
       "      <td>4341.000000</td>\n",
       "      <td>4341.000000</td>\n",
       "      <td>2073.00000</td>\n",
       "      <td>4341.0</td>\n",
       "      <td>4341.0</td>\n",
       "    </tr>\n",
       "    <tr>\n",
       "      <th>mean</th>\n",
       "      <td>6.859710</td>\n",
       "      <td>93.149965</td>\n",
       "      <td>2.15726</td>\n",
       "      <td>5.0</td>\n",
       "      <td>2.0</td>\n",
       "    </tr>\n",
       "    <tr>\n",
       "      <th>std</th>\n",
       "      <td>3.155551</td>\n",
       "      <td>3.234583</td>\n",
       "      <td>1.21102</td>\n",
       "      <td>0.0</td>\n",
       "      <td>0.0</td>\n",
       "    </tr>\n",
       "    <tr>\n",
       "      <th>min</th>\n",
       "      <td>1.000000</td>\n",
       "      <td>90.000000</td>\n",
       "      <td>1.00000</td>\n",
       "      <td>5.0</td>\n",
       "      <td>2.0</td>\n",
       "    </tr>\n",
       "    <tr>\n",
       "      <th>25%</th>\n",
       "      <td>4.000000</td>\n",
       "      <td>91.000000</td>\n",
       "      <td>2.00000</td>\n",
       "      <td>5.0</td>\n",
       "      <td>2.0</td>\n",
       "    </tr>\n",
       "    <tr>\n",
       "      <th>50%</th>\n",
       "      <td>7.000000</td>\n",
       "      <td>92.000000</td>\n",
       "      <td>2.00000</td>\n",
       "      <td>5.0</td>\n",
       "      <td>2.0</td>\n",
       "    </tr>\n",
       "    <tr>\n",
       "      <th>75%</th>\n",
       "      <td>10.000000</td>\n",
       "      <td>95.000000</td>\n",
       "      <td>2.00000</td>\n",
       "      <td>5.0</td>\n",
       "      <td>2.0</td>\n",
       "    </tr>\n",
       "    <tr>\n",
       "      <th>max</th>\n",
       "      <td>13.000000</td>\n",
       "      <td>128.000000</td>\n",
       "      <td>9.00000</td>\n",
       "      <td>5.0</td>\n",
       "      <td>2.0</td>\n",
       "    </tr>\n",
       "  </tbody>\n",
       "</table>\n",
       "</div>"
      ],
      "text/plain": [
       "           SEM_NOT   NU_IDADE_N   OBESIDADE  CLASSI_FIN  EVOLUCAO\n",
       "count  4341.000000  4341.000000  2073.00000      4341.0    4341.0\n",
       "mean      6.859710    93.149965     2.15726         5.0       2.0\n",
       "std       3.155551     3.234583     1.21102         0.0       0.0\n",
       "min       1.000000    90.000000     1.00000         5.0       2.0\n",
       "25%       4.000000    91.000000     2.00000         5.0       2.0\n",
       "50%       7.000000    92.000000     2.00000         5.0       2.0\n",
       "75%      10.000000    95.000000     2.00000         5.0       2.0\n",
       "max      13.000000   128.000000     9.00000         5.0       2.0"
      ]
     },
     "execution_count": 31,
     "metadata": {},
     "output_type": "execute_result"
    }
   ],
   "source": [
    "#informações numéricas sobre  óbitos de pessoas com mais de IDADE anos\n",
    "df_ob[df_ob['NU_IDADE_N']>=idade].describe()\n"
   ]
  },
  {
   "cell_type": "code",
   "execution_count": 32,
   "metadata": {
    "scrolled": true
   },
   "outputs": [
    {
     "data": {
      "text/html": [
       "<div>\n",
       "<style scoped>\n",
       "    .dataframe tbody tr th:only-of-type {\n",
       "        vertical-align: middle;\n",
       "    }\n",
       "\n",
       "    .dataframe tbody tr th {\n",
       "        vertical-align: top;\n",
       "    }\n",
       "\n",
       "    .dataframe thead th {\n",
       "        text-align: right;\n",
       "    }\n",
       "</style>\n",
       "<table border=\"1\" class=\"dataframe\">\n",
       "  <thead>\n",
       "    <tr style=\"text-align: right;\">\n",
       "      <th></th>\n",
       "      <th>DT_NOTIFIC</th>\n",
       "      <th>SEM_NOT</th>\n",
       "      <th>SG_UF_NOT</th>\n",
       "      <th>ID_REGIONA</th>\n",
       "      <th>CS_SEXO</th>\n",
       "      <th>DT_NASC</th>\n",
       "      <th>NU_IDADE_N</th>\n",
       "      <th>OBESIDADE</th>\n",
       "      <th>CLASSI_FIN</th>\n",
       "      <th>EVOLUCAO</th>\n",
       "      <th>IDOSO</th>\n",
       "      <th>OBITO</th>\n",
       "      <th>COVID19</th>\n",
       "    </tr>\n",
       "  </thead>\n",
       "  <tbody>\n",
       "    <tr>\n",
       "      <th>420960</th>\n",
       "      <td>01/03/2021</td>\n",
       "      <td>9</td>\n",
       "      <td>SP</td>\n",
       "      <td>GVE I CAPITAL</td>\n",
       "      <td>F</td>\n",
       "      <td>22/10/1924</td>\n",
       "      <td>96</td>\n",
       "      <td>2.0</td>\n",
       "      <td>5.0</td>\n",
       "      <td>2.0</td>\n",
       "      <td>True</td>\n",
       "      <td>True</td>\n",
       "      <td>True</td>\n",
       "    </tr>\n",
       "    <tr>\n",
       "      <th>421061</th>\n",
       "      <td>13/03/2021</td>\n",
       "      <td>10</td>\n",
       "      <td>CE</td>\n",
       "      <td>1 CRES FORTALEZA</td>\n",
       "      <td>F</td>\n",
       "      <td>09/10/1929</td>\n",
       "      <td>91</td>\n",
       "      <td>2.0</td>\n",
       "      <td>5.0</td>\n",
       "      <td>2.0</td>\n",
       "      <td>True</td>\n",
       "      <td>True</td>\n",
       "      <td>True</td>\n",
       "    </tr>\n",
       "    <tr>\n",
       "      <th>421210</th>\n",
       "      <td>17/03/2021</td>\n",
       "      <td>11</td>\n",
       "      <td>RS</td>\n",
       "      <td>002 CRS</td>\n",
       "      <td>M</td>\n",
       "      <td>03/07/1927</td>\n",
       "      <td>93</td>\n",
       "      <td>2.0</td>\n",
       "      <td>5.0</td>\n",
       "      <td>2.0</td>\n",
       "      <td>True</td>\n",
       "      <td>True</td>\n",
       "      <td>True</td>\n",
       "    </tr>\n",
       "    <tr>\n",
       "      <th>421245</th>\n",
       "      <td>09/03/2021</td>\n",
       "      <td>10</td>\n",
       "      <td>CE</td>\n",
       "      <td>22 CRES CASCAVEL</td>\n",
       "      <td>M</td>\n",
       "      <td>24/08/1927</td>\n",
       "      <td>93</td>\n",
       "      <td>2.0</td>\n",
       "      <td>5.0</td>\n",
       "      <td>2.0</td>\n",
       "      <td>True</td>\n",
       "      <td>True</td>\n",
       "      <td>True</td>\n",
       "    </tr>\n",
       "    <tr>\n",
       "      <th>421275</th>\n",
       "      <td>14/03/2021</td>\n",
       "      <td>11</td>\n",
       "      <td>CE</td>\n",
       "      <td>10 CRES LIMOEIRO DO NORTE</td>\n",
       "      <td>F</td>\n",
       "      <td>21/12/1926</td>\n",
       "      <td>94</td>\n",
       "      <td>2.0</td>\n",
       "      <td>5.0</td>\n",
       "      <td>2.0</td>\n",
       "      <td>True</td>\n",
       "      <td>True</td>\n",
       "      <td>True</td>\n",
       "    </tr>\n",
       "  </tbody>\n",
       "</table>\n",
       "</div>"
      ],
      "text/plain": [
       "        DT_NOTIFIC  SEM_NOT SG_UF_NOT                 ID_REGIONA CS_SEXO  \\\n",
       "420960  01/03/2021        9        SP              GVE I CAPITAL       F   \n",
       "421061  13/03/2021       10        CE           1 CRES FORTALEZA       F   \n",
       "421210  17/03/2021       11        RS                    002 CRS       M   \n",
       "421245  09/03/2021       10        CE           22 CRES CASCAVEL       M   \n",
       "421275  14/03/2021       11        CE  10 CRES LIMOEIRO DO NORTE       F   \n",
       "\n",
       "           DT_NASC  NU_IDADE_N  OBESIDADE  CLASSI_FIN  EVOLUCAO  IDOSO  OBITO  \\\n",
       "420960  22/10/1924          96        2.0         5.0       2.0   True   True   \n",
       "421061  09/10/1929          91        2.0         5.0       2.0   True   True   \n",
       "421210  03/07/1927          93        2.0         5.0       2.0   True   True   \n",
       "421245  24/08/1927          93        2.0         5.0       2.0   True   True   \n",
       "421275  21/12/1926          94        2.0         5.0       2.0   True   True   \n",
       "\n",
       "        COVID19  \n",
       "420960     True  \n",
       "421061     True  \n",
       "421210     True  \n",
       "421245     True  \n",
       "421275     True  "
      ]
     },
     "execution_count": 32,
     "metadata": {},
     "output_type": "execute_result"
    }
   ],
   "source": [
    "#Sub set de maiores de óbitos por covid para maiores de 80 anos\n",
    "df_idoso = df_ob[df_ob['NU_IDADE_N']>=idade]\n",
    "df_idoso.tail()"
   ]
  },
  {
   "cell_type": "code",
   "execution_count": 33,
   "metadata": {},
   "outputs": [
    {
     "data": {
      "text/plain": [
       "90"
      ]
     },
     "execution_count": 33,
     "metadata": {},
     "output_type": "execute_result"
    }
   ],
   "source": [
    "idade"
   ]
  },
  {
   "cell_type": "code",
   "execution_count": 34,
   "metadata": {},
   "outputs": [
    {
     "data": {
      "text/plain": [
       "<AxesSubplot:xlabel='SEM_NOT', ylabel='count'>"
      ]
     },
     "execution_count": 34,
     "metadata": {},
     "output_type": "execute_result"
    },
    {
     "data": {
      "image/png": "[encoded data removed]",
      "text/plain": [
       "<Figure size 432x288 with 1 Axes>"
      ]
     },
     "metadata": {},
     "output_type": "display_data"
    }
   ],
   "source": [
    "#Gráfico de casos de óbitos de idosos por COVID19 por semana de notificação\n",
    "#df_idoso['SEM_NOT'].value_counts(sort = False).plot.bar()\n",
    "sns.countplot(data=df_idoso, x = 'SEM_NOT', hue = 'IDOSO')"
   ]
  },
  {
   "cell_type": "code",
   "execution_count": 35,
   "metadata": {},
   "outputs": [],
   "source": [
    "df_estado=df_idoso[df_idoso['SG_UF_NOT']== estado]"
   ]
  },
  {
   "cell_type": "code",
   "execution_count": 36,
   "metadata": {},
   "outputs": [
    {
     "data": {
      "text/html": [
       "<div>\n",
       "<style scoped>\n",
       "    .dataframe tbody tr th:only-of-type {\n",
       "        vertical-align: middle;\n",
       "    }\n",
       "\n",
       "    .dataframe tbody tr th {\n",
       "        vertical-align: top;\n",
       "    }\n",
       "\n",
       "    .dataframe thead th {\n",
       "        text-align: right;\n",
       "    }\n",
       "</style>\n",
       "<table border=\"1\" class=\"dataframe\">\n",
       "  <thead>\n",
       "    <tr style=\"text-align: right;\">\n",
       "      <th></th>\n",
       "      <th>DT_NOTIFIC</th>\n",
       "      <th>SEM_NOT</th>\n",
       "      <th>SG_UF_NOT</th>\n",
       "      <th>ID_REGIONA</th>\n",
       "      <th>CS_SEXO</th>\n",
       "      <th>DT_NASC</th>\n",
       "      <th>NU_IDADE_N</th>\n",
       "      <th>OBESIDADE</th>\n",
       "      <th>CLASSI_FIN</th>\n",
       "      <th>EVOLUCAO</th>\n",
       "      <th>IDOSO</th>\n",
       "      <th>OBITO</th>\n",
       "      <th>COVID19</th>\n",
       "    </tr>\n",
       "  </thead>\n",
       "  <tbody>\n",
       "    <tr>\n",
       "      <th>69</th>\n",
       "      <td>10/01/2021</td>\n",
       "      <td>2</td>\n",
       "      <td>SP</td>\n",
       "      <td>GVE I CAPITAL</td>\n",
       "      <td>F</td>\n",
       "      <td>26/07/1926</td>\n",
       "      <td>94</td>\n",
       "      <td>NaN</td>\n",
       "      <td>5.0</td>\n",
       "      <td>2.0</td>\n",
       "      <td>True</td>\n",
       "      <td>True</td>\n",
       "      <td>True</td>\n",
       "    </tr>\n",
       "    <tr>\n",
       "      <th>151</th>\n",
       "      <td>14/01/2021</td>\n",
       "      <td>2</td>\n",
       "      <td>SP</td>\n",
       "      <td>GVE XV BAURU</td>\n",
       "      <td>F</td>\n",
       "      <td>07/12/1930</td>\n",
       "      <td>90</td>\n",
       "      <td>2.0</td>\n",
       "      <td>5.0</td>\n",
       "      <td>2.0</td>\n",
       "      <td>True</td>\n",
       "      <td>True</td>\n",
       "      <td>True</td>\n",
       "    </tr>\n",
       "    <tr>\n",
       "      <th>351</th>\n",
       "      <td>19/01/2021</td>\n",
       "      <td>3</td>\n",
       "      <td>SP</td>\n",
       "      <td>GVE XII ARARAQUARA</td>\n",
       "      <td>F</td>\n",
       "      <td>27/09/1930</td>\n",
       "      <td>90</td>\n",
       "      <td>2.0</td>\n",
       "      <td>5.0</td>\n",
       "      <td>2.0</td>\n",
       "      <td>True</td>\n",
       "      <td>True</td>\n",
       "      <td>True</td>\n",
       "    </tr>\n",
       "    <tr>\n",
       "      <th>513</th>\n",
       "      <td>15/01/2021</td>\n",
       "      <td>2</td>\n",
       "      <td>SP</td>\n",
       "      <td>GVE I CAPITAL</td>\n",
       "      <td>F</td>\n",
       "      <td>16/09/1925</td>\n",
       "      <td>95</td>\n",
       "      <td>NaN</td>\n",
       "      <td>5.0</td>\n",
       "      <td>2.0</td>\n",
       "      <td>True</td>\n",
       "      <td>True</td>\n",
       "      <td>True</td>\n",
       "    </tr>\n",
       "    <tr>\n",
       "      <th>774</th>\n",
       "      <td>28/01/2021</td>\n",
       "      <td>4</td>\n",
       "      <td>SP</td>\n",
       "      <td>GVE I CAPITAL</td>\n",
       "      <td>F</td>\n",
       "      <td>22/11/1925</td>\n",
       "      <td>95</td>\n",
       "      <td>NaN</td>\n",
       "      <td>5.0</td>\n",
       "      <td>2.0</td>\n",
       "      <td>True</td>\n",
       "      <td>True</td>\n",
       "      <td>True</td>\n",
       "    </tr>\n",
       "  </tbody>\n",
       "</table>\n",
       "</div>"
      ],
      "text/plain": [
       "     DT_NOTIFIC  SEM_NOT SG_UF_NOT          ID_REGIONA CS_SEXO     DT_NASC  \\\n",
       "69   10/01/2021        2        SP       GVE I CAPITAL       F  26/07/1926   \n",
       "151  14/01/2021        2        SP        GVE XV BAURU       F  07/12/1930   \n",
       "351  19/01/2021        3        SP  GVE XII ARARAQUARA       F  27/09/1930   \n",
       "513  15/01/2021        2        SP       GVE I CAPITAL       F  16/09/1925   \n",
       "774  28/01/2021        4        SP       GVE I CAPITAL       F  22/11/1925   \n",
       "\n",
       "     NU_IDADE_N  OBESIDADE  CLASSI_FIN  EVOLUCAO  IDOSO  OBITO  COVID19  \n",
       "69           94        NaN         5.0       2.0   True   True     True  \n",
       "151          90        2.0         5.0       2.0   True   True     True  \n",
       "351          90        2.0         5.0       2.0   True   True     True  \n",
       "513          95        NaN         5.0       2.0   True   True     True  \n",
       "774          95        NaN         5.0       2.0   True   True     True  "
      ]
     },
     "execution_count": 36,
     "metadata": {},
     "output_type": "execute_result"
    }
   ],
   "source": [
    "df_estado.head()"
   ]
  },
  {
   "cell_type": "code",
   "execution_count": 37,
   "metadata": {},
   "outputs": [
    {
     "data": {
      "text/html": [
       "<div>\n",
       "<style scoped>\n",
       "    .dataframe tbody tr th:only-of-type {\n",
       "        vertical-align: middle;\n",
       "    }\n",
       "\n",
       "    .dataframe tbody tr th {\n",
       "        vertical-align: top;\n",
       "    }\n",
       "\n",
       "    .dataframe thead th {\n",
       "        text-align: right;\n",
       "    }\n",
       "</style>\n",
       "<table border=\"1\" class=\"dataframe\">\n",
       "  <thead>\n",
       "    <tr style=\"text-align: right;\">\n",
       "      <th></th>\n",
       "      <th>DT_NOTIFIC</th>\n",
       "      <th>SEM_NOT</th>\n",
       "      <th>SG_UF_NOT</th>\n",
       "      <th>ID_REGIONA</th>\n",
       "      <th>CS_SEXO</th>\n",
       "      <th>DT_NASC</th>\n",
       "      <th>NU_IDADE_N</th>\n",
       "      <th>OBESIDADE</th>\n",
       "      <th>CLASSI_FIN</th>\n",
       "      <th>EVOLUCAO</th>\n",
       "      <th>IDOSO</th>\n",
       "      <th>OBITO</th>\n",
       "      <th>COVID19</th>\n",
       "    </tr>\n",
       "  </thead>\n",
       "  <tbody>\n",
       "    <tr>\n",
       "      <th>151774</th>\n",
       "      <td>15/03/2021</td>\n",
       "      <td>11</td>\n",
       "      <td>SP</td>\n",
       "      <td>GVE XVII CAMPINAS</td>\n",
       "      <td>M</td>\n",
       "      <td>14/12/1929</td>\n",
       "      <td>91</td>\n",
       "      <td>NaN</td>\n",
       "      <td>5.0</td>\n",
       "      <td>2.0</td>\n",
       "      <td>True</td>\n",
       "      <td>True</td>\n",
       "      <td>True</td>\n",
       "    </tr>\n",
       "  </tbody>\n",
       "</table>\n",
       "</div>"
      ],
      "text/plain": [
       "        DT_NOTIFIC  SEM_NOT SG_UF_NOT         ID_REGIONA CS_SEXO     DT_NASC  \\\n",
       "151774  15/03/2021       11        SP  GVE XVII CAMPINAS       M  14/12/1929   \n",
       "\n",
       "        NU_IDADE_N  OBESIDADE  CLASSI_FIN  EVOLUCAO  IDOSO  OBITO  COVID19  \n",
       "151774          91        NaN         5.0       2.0   True   True     True  "
      ]
     },
     "execution_count": 37,
     "metadata": {},
     "output_type": "execute_result"
    }
   ],
   "source": [
    "df_estado.sample()"
   ]
  },
  {
   "cell_type": "code",
   "execution_count": 38,
   "metadata": {},
   "outputs": [
    {
     "data": {
      "text/html": [
       "<div>\n",
       "<style scoped>\n",
       "    .dataframe tbody tr th:only-of-type {\n",
       "        vertical-align: middle;\n",
       "    }\n",
       "\n",
       "    .dataframe tbody tr th {\n",
       "        vertical-align: top;\n",
       "    }\n",
       "\n",
       "    .dataframe thead th {\n",
       "        text-align: right;\n",
       "    }\n",
       "</style>\n",
       "<table border=\"1\" class=\"dataframe\">\n",
       "  <thead>\n",
       "    <tr style=\"text-align: right;\">\n",
       "      <th></th>\n",
       "      <th>DT_NOTIFIC</th>\n",
       "      <th>SEM_NOT</th>\n",
       "      <th>SG_UF_NOT</th>\n",
       "      <th>ID_REGIONA</th>\n",
       "      <th>CS_SEXO</th>\n",
       "      <th>DT_NASC</th>\n",
       "      <th>NU_IDADE_N</th>\n",
       "      <th>OBESIDADE</th>\n",
       "      <th>CLASSI_FIN</th>\n",
       "      <th>EVOLUCAO</th>\n",
       "      <th>IDOSO</th>\n",
       "      <th>OBITO</th>\n",
       "      <th>COVID19</th>\n",
       "    </tr>\n",
       "  </thead>\n",
       "  <tbody>\n",
       "    <tr>\n",
       "      <th>418937</th>\n",
       "      <td>08/03/2021</td>\n",
       "      <td>10</td>\n",
       "      <td>SP</td>\n",
       "      <td>GVE XV BAURU</td>\n",
       "      <td>M</td>\n",
       "      <td>14/03/1930</td>\n",
       "      <td>90</td>\n",
       "      <td>2.0</td>\n",
       "      <td>5.0</td>\n",
       "      <td>2.0</td>\n",
       "      <td>True</td>\n",
       "      <td>True</td>\n",
       "      <td>True</td>\n",
       "    </tr>\n",
       "    <tr>\n",
       "      <th>419808</th>\n",
       "      <td>17/03/2021</td>\n",
       "      <td>11</td>\n",
       "      <td>SP</td>\n",
       "      <td>GVE XXXI SOROCABA</td>\n",
       "      <td>F</td>\n",
       "      <td>15/06/1930</td>\n",
       "      <td>90</td>\n",
       "      <td>2.0</td>\n",
       "      <td>5.0</td>\n",
       "      <td>2.0</td>\n",
       "      <td>True</td>\n",
       "      <td>True</td>\n",
       "      <td>True</td>\n",
       "    </tr>\n",
       "    <tr>\n",
       "      <th>419864</th>\n",
       "      <td>19/03/2021</td>\n",
       "      <td>11</td>\n",
       "      <td>SP</td>\n",
       "      <td>GVE XXX JALES</td>\n",
       "      <td>F</td>\n",
       "      <td>05/11/1929</td>\n",
       "      <td>91</td>\n",
       "      <td>2.0</td>\n",
       "      <td>5.0</td>\n",
       "      <td>2.0</td>\n",
       "      <td>True</td>\n",
       "      <td>True</td>\n",
       "      <td>True</td>\n",
       "    </tr>\n",
       "    <tr>\n",
       "      <th>420300</th>\n",
       "      <td>19/02/2021</td>\n",
       "      <td>7</td>\n",
       "      <td>SP</td>\n",
       "      <td>GVE VII SANTO ANDRE</td>\n",
       "      <td>M</td>\n",
       "      <td>19/09/1930</td>\n",
       "      <td>90</td>\n",
       "      <td>2.0</td>\n",
       "      <td>5.0</td>\n",
       "      <td>2.0</td>\n",
       "      <td>True</td>\n",
       "      <td>True</td>\n",
       "      <td>True</td>\n",
       "    </tr>\n",
       "    <tr>\n",
       "      <th>420960</th>\n",
       "      <td>01/03/2021</td>\n",
       "      <td>9</td>\n",
       "      <td>SP</td>\n",
       "      <td>GVE I CAPITAL</td>\n",
       "      <td>F</td>\n",
       "      <td>22/10/1924</td>\n",
       "      <td>96</td>\n",
       "      <td>2.0</td>\n",
       "      <td>5.0</td>\n",
       "      <td>2.0</td>\n",
       "      <td>True</td>\n",
       "      <td>True</td>\n",
       "      <td>True</td>\n",
       "    </tr>\n",
       "  </tbody>\n",
       "</table>\n",
       "</div>"
      ],
      "text/plain": [
       "        DT_NOTIFIC  SEM_NOT SG_UF_NOT           ID_REGIONA CS_SEXO  \\\n",
       "418937  08/03/2021       10        SP         GVE XV BAURU       M   \n",
       "419808  17/03/2021       11        SP    GVE XXXI SOROCABA       F   \n",
       "419864  19/03/2021       11        SP        GVE XXX JALES       F   \n",
       "420300  19/02/2021        7        SP  GVE VII SANTO ANDRE       M   \n",
       "420960  01/03/2021        9        SP        GVE I CAPITAL       F   \n",
       "\n",
       "           DT_NASC  NU_IDADE_N  OBESIDADE  CLASSI_FIN  EVOLUCAO  IDOSO  OBITO  \\\n",
       "418937  14/03/1930          90        2.0         5.0       2.0   True   True   \n",
       "419808  15/06/1930          90        2.0         5.0       2.0   True   True   \n",
       "419864  05/11/1929          91        2.0         5.0       2.0   True   True   \n",
       "420300  19/09/1930          90        2.0         5.0       2.0   True   True   \n",
       "420960  22/10/1924          96        2.0         5.0       2.0   True   True   \n",
       "\n",
       "        COVID19  \n",
       "418937     True  \n",
       "419808     True  \n",
       "419864     True  \n",
       "420300     True  \n",
       "420960     True  "
      ]
     },
     "execution_count": 38,
     "metadata": {},
     "output_type": "execute_result"
    }
   ],
   "source": [
    "df_estado.tail()"
   ]
  },
  {
   "cell_type": "code",
   "execution_count": 39,
   "metadata": {
    "scrolled": true
   },
   "outputs": [],
   "source": [
    "#"
   ]
  },
  {
   "cell_type": "code",
   "execution_count": 40,
   "metadata": {},
   "outputs": [
    {
     "data": {
      "text/plain": [
       "<AxesSubplot:xlabel='SEM_NOT', ylabel='count'>"
      ]
     },
     "execution_count": 40,
     "metadata": {},
     "output_type": "execute_result"
    },
    {
     "data": {
      "image/png": "[encoded data removed]",
      "text/plain": [
       "<Figure size 432x288 with 1 Axes>"
      ]
     },
     "metadata": {},
     "output_type": "display_data"
    }
   ],
   "source": [
    "#Gráfico com Seaborn - Óbitos Covid19 em SP\n",
    "sns.countplot(data=df_estado, x = 'SEM_NOT', hue = 'IDOSO')"
   ]
  },
  {
   "cell_type": "code",
   "execution_count": 41,
   "metadata": {},
   "outputs": [
    {
     "data": {
      "text/plain": [
       "<AxesSubplot:xlabel='SEM_NOT', ylabel='count'>"
      ]
     },
     "execution_count": 41,
     "metadata": {},
     "output_type": "execute_result"
    },
    {
     "data": {
      "image/png": "[encoded data removed]",
      "text/plain": [
       "<Figure size 432x288 with 1 Axes>"
      ]
     },
     "metadata": {},
     "output_type": "display_data"
    }
   ],
   "source": [
    "#Gráfico com Seaborn - Óbitos todas as idades em Brasil\n",
    "sns.countplot(data=df_ob, x = 'SEM_NOT')"
   ]
  },
  {
   "cell_type": "code",
   "execution_count": null,
   "metadata": {},
   "outputs": [],
   "source": []
  }
 ],
 "metadata": {
  "kernelspec": {
   "display_name": "Python 3",
   "language": "python",
   "name": "python3"
  },
  "language_info": {
   "codemirror_mode": {
    "name": "ipython",
    "version": 3
   },
   "file_extension": ".py",
   "mimetype": "text/x-python",
   "name": "python",
   "nbconvert_exporter": "python",
   "pygments_lexer": "ipython3",
   "version": "3.8.5"
  }
 },
 "nbformat": 4,
 "nbformat_minor": 4
}
